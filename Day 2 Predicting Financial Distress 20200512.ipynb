{
 "cells": [
  {
   "cell_type": "markdown",
   "metadata": {},
   "source": [
    "<h1><center><font size=\"6\">Predicting Financial Distress</font></center></h1>\n",
    "\n",
    "<h3><center><font size=\"4\">  </font></center></h2>"
   ]
  },
  {
   "cell_type": "code",
   "execution_count": 1,
   "metadata": {},
   "outputs": [],
   "source": [
    "# All of these are going to be done\n",
    "\n",
    "# Resampling data comparison\n",
    "\n",
    "# Data Cleansing using custom Python functions\n",
    "# Identification of bad columns: those with nulls, blanks, constant values or duplicated features\n",
    "# Prefix/Suffix removal\n",
    "# Alphanumeric column splitting\n",
    "# Blank space conversion to np.nan\n",
    "\n",
    "# Feature engine open source package from Soledad (Udemy instructor)\n",
    "# Null imputation using Median (continuous features) & Mode(categorical features)\n",
    "# Reducing cardinality:Discretization (continuous features) & Rare label binning (categorical features)\n",
    "# Categorical feature Encoding (Label + Ordinal encoding)"
   ]
  },
  {
   "cell_type": "markdown",
   "metadata": {},
   "source": [
    "<a id=\"top\"></a> <br>\n",
    "## Table of Contents\n",
    "1. [Introduction](#1)\n",
    "\n",
    "1. [Initialization](#2)\n",
    "    1. [Load Packages](#21)\n",
    "    1. [Define Metadata](#22)\n",
    "    \n",
    "1. [Load Data & Validate](#3)\n",
    "    \n",
    "1. [Data Skewness Correction](#4)\n",
    "    1. [Prepping before resampling](#41)\n",
    "        1. [Import cleaned dataframe](#411)\n",
    "        1. [Feature Target and Train Test Split](#412)\n",
    "        1. [Initializing Metrics Capture](#413)\n",
    "        1. [Import Custom Test Functions](#414)\n",
    "    1. [Resampling Strategies Comparison](#42)\n",
    "        1. [Resampling Method1: Undersampling - Random Undersampling](#421)\n",
    "        1. [Resampling Method2: Oversampling - SMOTE](#422)\n",
    "        1. [Resampling Method3: Hybrid Oversampling and Undersampling using SMOTEENN](#423)\n",
    "        1. [Resampling Method4: Custom function to oversample at different rates](#424)\n",
    "    \n",
    "1. [Data Cleansing & EDA for ML Generalizability](#5)\n",
    "    1. [Pre-cleaning](#51)\n",
    "        1. [Identify Bad columns](#511)\n",
    "        1. [Convert Blanks to np.nan](#512)\n",
    "        1. [Convert data types - string to float](#513)\n",
    "        1. [Update Bad columns list](#514)\n",
    "    1. [EDA for ML Generalizability](#52)\n",
    "        1. [Selecting top features](#521)\n",
    "        1. [EDA - Numerical Columns](#522)\n",
    "        1. [Outlier Definition, Detection & Removal](#523)\n",
    "    \n",
    "1. [Data Signal Amplification](#6)\n",
    "    1. [Data Prep - Feature Target & Train Test Split](#62)\n",
    "    1. [Handling Null Values](#62)\n",
    "        1. [Pre-Imputation](#621)\n",
    "        1. [Imputation](#622)\n",
    "        1. [Performance Testing](#623)\n",
    "    1. [Variance Reduction](#63)\n",
    "        1. [Binning - Numerical Feature](#631)\n",
    "        1. [Rare Label Encoding - Categorical Features](#633)\n",
    "    \n",
    "1. [Conclusion](#7)\n",
    "\n",
    "1. [References](#8)"
   ]
  },
  {
   "cell_type": "markdown",
   "metadata": {},
   "source": [
    "## <a id='1'>Introduction</a>  "
   ]
  },
  {
   "cell_type": "markdown",
   "metadata": {},
   "source": [
    "Continuing on from the previous week, the aim here is to improve upon our baseline model performance by focussing on the data"
   ]
  },
  {
   "cell_type": "markdown",
   "metadata": {},
   "source": [
    "## <a id='2'>Initialization</a>  "
   ]
  },
  {
   "cell_type": "markdown",
   "metadata": {},
   "source": [
    "### <a id='21'>Load Packages</a>  "
   ]
  },
  {
   "cell_type": "markdown",
   "metadata": {},
   "source": [
    "\n",
    "\n",
    "Load the minimum number of packages to get started and add more as we go along"
   ]
  },
  {
   "cell_type": "code",
   "execution_count": 2,
   "metadata": {},
   "outputs": [],
   "source": [
    "import pandas as pd \n",
    "import numpy as np\n",
    "\n",
    "import matplotlib.pyplot as plt\n",
    "%matplotlib inline\n",
    "\n",
    "import seaborn as sns\n",
    "\n",
    "import warnings\n",
    "warnings.filterwarnings('ignore')\n",
    "# This is to suppress any deprecation warnings \n",
    "\n",
    "import os\n",
    "\n",
    "import sys\n",
    "sys.path.append(\"/home/paperspace/Kaggle Grandmaster/Udemy Superstar/Classification\") \n",
    "# Adds higher directory to python modules path."
   ]
  },
  {
   "cell_type": "markdown",
   "metadata": {},
   "source": [
    "### <a id='22'>Define Metadata</a>  "
   ]
  },
  {
   "cell_type": "code",
   "execution_count": 3,
   "metadata": {},
   "outputs": [],
   "source": [
    "# Define the name of the target class column here instead of manually typing it out everywhere\n",
    "target_class_name = 'SeriousDlqin2yrs'\n",
    "\n",
    "# Fill in the names of what you want to call the 0 and 1 class\n",
    "labels = ['No Distress', 'Distress']\n",
    "\n",
    "input_file_name = 'cs-training.csv'\n",
    "\n",
    "intermediate_data_path = '../intermediate data/'\n",
    "\n",
    "# This will be used to compare resampling techniques\n",
    "clean_df_file_name = intermediate_data_path + 'day1_cleaned_df_output_20200511.pkl'\n",
    "\n",
    "output_df_file_name = 'day2_cleaned_df_output_' \n",
    "\n",
    "# Enter the date in which this notebook is run\n",
    "export_date = '20200515'\n"
   ]
  },
  {
   "cell_type": "code",
   "execution_count": 4,
   "metadata": {},
   "outputs": [
    {
     "name": "stdout",
     "output_type": "stream",
     "text": [
      "['Readme.txt', '.ipynb_checkpoints', 'cs-training.csv', 'cs-test.csv', 'Data%20Dictionary.xls', 'Data Dictionary.txt', 'sampleEntry.csv']\n"
     ]
    }
   ],
   "source": [
    "# Check ou tthe names of the files in the input folder that we need to load as dataframe\n",
    "import os\n",
    "print(os.listdir('../input'))\n",
    "# This will list all the files in this folder"
   ]
  },
  {
   "cell_type": "code",
   "execution_count": 5,
   "metadata": {},
   "outputs": [
    {
     "name": "stdout",
     "output_type": "stream",
     "text": [
      "['.ipynb_checkpoints', 'day1_cleaned_df_output_20200511.pkl', 'day2_cleaned_df_output_20200515.csv', 'week1_cleaned_df_output_20190921.csv']\n"
     ]
    }
   ],
   "source": [
    "# Check ou tthe names of the files in the input folder that we need to load as dataframe\n",
    "import os\n",
    "print(os.listdir('../intermediate data'))\n",
    "# This will list all the files in this folder"
   ]
  },
  {
   "cell_type": "markdown",
   "metadata": {},
   "source": [
    "## <a id='3'>Load Data & Validate</a>  "
   ]
  },
  {
   "cell_type": "code",
   "execution_count": 6,
   "metadata": {
    "scrolled": true
   },
   "outputs": [
    {
     "data": {
      "text/html": [
       "<div>\n",
       "<style scoped>\n",
       "    .dataframe tbody tr th:only-of-type {\n",
       "        vertical-align: middle;\n",
       "    }\n",
       "\n",
       "    .dataframe tbody tr th {\n",
       "        vertical-align: top;\n",
       "    }\n",
       "\n",
       "    .dataframe thead th {\n",
       "        text-align: right;\n",
       "    }\n",
       "</style>\n",
       "<table border=\"1\" class=\"dataframe\">\n",
       "  <thead>\n",
       "    <tr style=\"text-align: right;\">\n",
       "      <th></th>\n",
       "      <th>RevolvingUtilizationOfUnsecuredLines</th>\n",
       "      <th>age</th>\n",
       "      <th>NumberOfTime30-59DaysPastDueNotWorse</th>\n",
       "      <th>DebtRatio</th>\n",
       "      <th>MonthlyIncome</th>\n",
       "      <th>NumberOfOpenCreditLinesAndLoans</th>\n",
       "      <th>NumberOfTimes90DaysLate</th>\n",
       "      <th>NumberRealEstateLoansOrLines</th>\n",
       "      <th>NumberOfTime60-89DaysPastDueNotWorse</th>\n",
       "      <th>NumberOfDependents</th>\n",
       "      <th>SeriousDlqin2yrs</th>\n",
       "    </tr>\n",
       "  </thead>\n",
       "  <tbody>\n",
       "    <tr>\n",
       "      <th>28269</th>\n",
       "      <td>0.018594</td>\n",
       "      <td>86</td>\n",
       "      <td>0</td>\n",
       "      <td>0.000383</td>\n",
       "      <td>60000.0</td>\n",
       "      <td>3</td>\n",
       "      <td>0</td>\n",
       "      <td>0</td>\n",
       "      <td>0</td>\n",
       "      <td>0.0</td>\n",
       "      <td>0</td>\n",
       "    </tr>\n",
       "    <tr>\n",
       "      <th>78027</th>\n",
       "      <td>0.003712</td>\n",
       "      <td>49</td>\n",
       "      <td>0</td>\n",
       "      <td>0.000545</td>\n",
       "      <td>9166.0</td>\n",
       "      <td>4</td>\n",
       "      <td>0</td>\n",
       "      <td>0</td>\n",
       "      <td>0</td>\n",
       "      <td>0.0</td>\n",
       "      <td>0</td>\n",
       "    </tr>\n",
       "    <tr>\n",
       "      <th>82329</th>\n",
       "      <td>0.089428</td>\n",
       "      <td>43</td>\n",
       "      <td>0</td>\n",
       "      <td>0.480152</td>\n",
       "      <td>10000.0</td>\n",
       "      <td>10</td>\n",
       "      <td>0</td>\n",
       "      <td>2</td>\n",
       "      <td>0</td>\n",
       "      <td>2.0</td>\n",
       "      <td>0</td>\n",
       "    </tr>\n",
       "    <tr>\n",
       "      <th>83585</th>\n",
       "      <td>0.164830</td>\n",
       "      <td>57</td>\n",
       "      <td>0</td>\n",
       "      <td>0.968822</td>\n",
       "      <td>4361.0</td>\n",
       "      <td>13</td>\n",
       "      <td>0</td>\n",
       "      <td>1</td>\n",
       "      <td>0</td>\n",
       "      <td>0.0</td>\n",
       "      <td>0</td>\n",
       "    </tr>\n",
       "    <tr>\n",
       "      <th>107740</th>\n",
       "      <td>0.012926</td>\n",
       "      <td>77</td>\n",
       "      <td>2</td>\n",
       "      <td>5.496834</td>\n",
       "      <td>3000.0</td>\n",
       "      <td>13</td>\n",
       "      <td>0</td>\n",
       "      <td>3</td>\n",
       "      <td>0</td>\n",
       "      <td>0.0</td>\n",
       "      <td>0</td>\n",
       "    </tr>\n",
       "  </tbody>\n",
       "</table>\n",
       "</div>"
      ],
      "text/plain": [
       "        RevolvingUtilizationOfUnsecuredLines  age  \\\n",
       "28269                               0.018594   86   \n",
       "78027                               0.003712   49   \n",
       "82329                               0.089428   43   \n",
       "83585                               0.164830   57   \n",
       "107740                              0.012926   77   \n",
       "\n",
       "        NumberOfTime30-59DaysPastDueNotWorse  DebtRatio  MonthlyIncome  \\\n",
       "28269                                      0   0.000383        60000.0   \n",
       "78027                                      0   0.000545         9166.0   \n",
       "82329                                      0   0.480152        10000.0   \n",
       "83585                                      0   0.968822         4361.0   \n",
       "107740                                     2   5.496834         3000.0   \n",
       "\n",
       "        NumberOfOpenCreditLinesAndLoans  NumberOfTimes90DaysLate  \\\n",
       "28269                                 3                        0   \n",
       "78027                                 4                        0   \n",
       "82329                                10                        0   \n",
       "83585                                13                        0   \n",
       "107740                               13                        0   \n",
       "\n",
       "        NumberRealEstateLoansOrLines  NumberOfTime60-89DaysPastDueNotWorse  \\\n",
       "28269                              0                                     0   \n",
       "78027                              0                                     0   \n",
       "82329                              2                                     0   \n",
       "83585                              1                                     0   \n",
       "107740                             3                                     0   \n",
       "\n",
       "        NumberOfDependents  SeriousDlqin2yrs  \n",
       "28269                  0.0                 0  \n",
       "78027                  0.0                 0  \n",
       "82329                  2.0                 0  \n",
       "83585                  0.0                 0  \n",
       "107740                 0.0                 0  "
      ]
     },
     "execution_count": 6,
     "metadata": {},
     "output_type": "execute_result"
    }
   ],
   "source": [
    "df = pd.read_csv('../input/' + input_file_name)\n",
    "\n",
    "# drop the first column\n",
    "del df['Unnamed: 0']\n",
    "\n",
    "# place the SeriousDlqin2yrs as the last column because its the target variable\n",
    "df = (pd.concat([df[df.columns[1:]],df[df.columns[0]]], axis=1))\n",
    "\n",
    "df.sample(5)"
   ]
  },
  {
   "cell_type": "markdown",
   "metadata": {},
   "source": [
    "\n",
    "Lets check the head & tail to make sure there is nothing going on"
   ]
  },
  {
   "cell_type": "code",
   "execution_count": 7,
   "metadata": {},
   "outputs": [
    {
     "data": {
      "text/html": [
       "<div>\n",
       "<style scoped>\n",
       "    .dataframe tbody tr th:only-of-type {\n",
       "        vertical-align: middle;\n",
       "    }\n",
       "\n",
       "    .dataframe tbody tr th {\n",
       "        vertical-align: top;\n",
       "    }\n",
       "\n",
       "    .dataframe thead th {\n",
       "        text-align: right;\n",
       "    }\n",
       "</style>\n",
       "<table border=\"1\" class=\"dataframe\">\n",
       "  <thead>\n",
       "    <tr style=\"text-align: right;\">\n",
       "      <th></th>\n",
       "      <th>RevolvingUtilizationOfUnsecuredLines</th>\n",
       "      <th>age</th>\n",
       "      <th>NumberOfTime30-59DaysPastDueNotWorse</th>\n",
       "      <th>DebtRatio</th>\n",
       "      <th>MonthlyIncome</th>\n",
       "      <th>NumberOfOpenCreditLinesAndLoans</th>\n",
       "      <th>NumberOfTimes90DaysLate</th>\n",
       "      <th>NumberRealEstateLoansOrLines</th>\n",
       "      <th>NumberOfTime60-89DaysPastDueNotWorse</th>\n",
       "      <th>NumberOfDependents</th>\n",
       "      <th>SeriousDlqin2yrs</th>\n",
       "    </tr>\n",
       "  </thead>\n",
       "  <tbody>\n",
       "    <tr>\n",
       "      <th>0</th>\n",
       "      <td>0.766127</td>\n",
       "      <td>45</td>\n",
       "      <td>2</td>\n",
       "      <td>0.802982</td>\n",
       "      <td>9120.0</td>\n",
       "      <td>13</td>\n",
       "      <td>0</td>\n",
       "      <td>6</td>\n",
       "      <td>0</td>\n",
       "      <td>2.0</td>\n",
       "      <td>1</td>\n",
       "    </tr>\n",
       "    <tr>\n",
       "      <th>1</th>\n",
       "      <td>0.957151</td>\n",
       "      <td>40</td>\n",
       "      <td>0</td>\n",
       "      <td>0.121876</td>\n",
       "      <td>2600.0</td>\n",
       "      <td>4</td>\n",
       "      <td>0</td>\n",
       "      <td>0</td>\n",
       "      <td>0</td>\n",
       "      <td>1.0</td>\n",
       "      <td>0</td>\n",
       "    </tr>\n",
       "    <tr>\n",
       "      <th>2</th>\n",
       "      <td>0.658180</td>\n",
       "      <td>38</td>\n",
       "      <td>1</td>\n",
       "      <td>0.085113</td>\n",
       "      <td>3042.0</td>\n",
       "      <td>2</td>\n",
       "      <td>1</td>\n",
       "      <td>0</td>\n",
       "      <td>0</td>\n",
       "      <td>0.0</td>\n",
       "      <td>0</td>\n",
       "    </tr>\n",
       "  </tbody>\n",
       "</table>\n",
       "</div>"
      ],
      "text/plain": [
       "   RevolvingUtilizationOfUnsecuredLines  age  \\\n",
       "0                              0.766127   45   \n",
       "1                              0.957151   40   \n",
       "2                              0.658180   38   \n",
       "\n",
       "   NumberOfTime30-59DaysPastDueNotWorse  DebtRatio  MonthlyIncome  \\\n",
       "0                                     2   0.802982         9120.0   \n",
       "1                                     0   0.121876         2600.0   \n",
       "2                                     1   0.085113         3042.0   \n",
       "\n",
       "   NumberOfOpenCreditLinesAndLoans  NumberOfTimes90DaysLate  \\\n",
       "0                               13                        0   \n",
       "1                                4                        0   \n",
       "2                                2                        1   \n",
       "\n",
       "   NumberRealEstateLoansOrLines  NumberOfTime60-89DaysPastDueNotWorse  \\\n",
       "0                             6                                     0   \n",
       "1                             0                                     0   \n",
       "2                             0                                     0   \n",
       "\n",
       "   NumberOfDependents  SeriousDlqin2yrs  \n",
       "0                 2.0                 1  \n",
       "1                 1.0                 0  \n",
       "2                 0.0                 0  "
      ]
     },
     "execution_count": 7,
     "metadata": {},
     "output_type": "execute_result"
    }
   ],
   "source": [
    "df.head(3)\n",
    "# What you are checking here is whether there are some unwanted headers from teh input file that \n",
    "# can corrupt our data\n",
    "# If found, either open the file and manually delete it or only load the relevant columns"
   ]
  },
  {
   "cell_type": "code",
   "execution_count": 8,
   "metadata": {},
   "outputs": [
    {
     "data": {
      "text/html": [
       "<div>\n",
       "<style scoped>\n",
       "    .dataframe tbody tr th:only-of-type {\n",
       "        vertical-align: middle;\n",
       "    }\n",
       "\n",
       "    .dataframe tbody tr th {\n",
       "        vertical-align: top;\n",
       "    }\n",
       "\n",
       "    .dataframe thead th {\n",
       "        text-align: right;\n",
       "    }\n",
       "</style>\n",
       "<table border=\"1\" class=\"dataframe\">\n",
       "  <thead>\n",
       "    <tr style=\"text-align: right;\">\n",
       "      <th></th>\n",
       "      <th>RevolvingUtilizationOfUnsecuredLines</th>\n",
       "      <th>age</th>\n",
       "      <th>NumberOfTime30-59DaysPastDueNotWorse</th>\n",
       "      <th>DebtRatio</th>\n",
       "      <th>MonthlyIncome</th>\n",
       "      <th>NumberOfOpenCreditLinesAndLoans</th>\n",
       "      <th>NumberOfTimes90DaysLate</th>\n",
       "      <th>NumberRealEstateLoansOrLines</th>\n",
       "      <th>NumberOfTime60-89DaysPastDueNotWorse</th>\n",
       "      <th>NumberOfDependents</th>\n",
       "      <th>SeriousDlqin2yrs</th>\n",
       "    </tr>\n",
       "  </thead>\n",
       "  <tbody>\n",
       "    <tr>\n",
       "      <th>149997</th>\n",
       "      <td>0.246044</td>\n",
       "      <td>58</td>\n",
       "      <td>0</td>\n",
       "      <td>3870.000000</td>\n",
       "      <td>NaN</td>\n",
       "      <td>18</td>\n",
       "      <td>0</td>\n",
       "      <td>1</td>\n",
       "      <td>0</td>\n",
       "      <td>0.0</td>\n",
       "      <td>0</td>\n",
       "    </tr>\n",
       "    <tr>\n",
       "      <th>149998</th>\n",
       "      <td>0.000000</td>\n",
       "      <td>30</td>\n",
       "      <td>0</td>\n",
       "      <td>0.000000</td>\n",
       "      <td>5716.0</td>\n",
       "      <td>4</td>\n",
       "      <td>0</td>\n",
       "      <td>0</td>\n",
       "      <td>0</td>\n",
       "      <td>0.0</td>\n",
       "      <td>0</td>\n",
       "    </tr>\n",
       "    <tr>\n",
       "      <th>149999</th>\n",
       "      <td>0.850283</td>\n",
       "      <td>64</td>\n",
       "      <td>0</td>\n",
       "      <td>0.249908</td>\n",
       "      <td>8158.0</td>\n",
       "      <td>8</td>\n",
       "      <td>0</td>\n",
       "      <td>2</td>\n",
       "      <td>0</td>\n",
       "      <td>0.0</td>\n",
       "      <td>0</td>\n",
       "    </tr>\n",
       "  </tbody>\n",
       "</table>\n",
       "</div>"
      ],
      "text/plain": [
       "        RevolvingUtilizationOfUnsecuredLines  age  \\\n",
       "149997                              0.246044   58   \n",
       "149998                              0.000000   30   \n",
       "149999                              0.850283   64   \n",
       "\n",
       "        NumberOfTime30-59DaysPastDueNotWorse    DebtRatio  MonthlyIncome  \\\n",
       "149997                                     0  3870.000000            NaN   \n",
       "149998                                     0     0.000000         5716.0   \n",
       "149999                                     0     0.249908         8158.0   \n",
       "\n",
       "        NumberOfOpenCreditLinesAndLoans  NumberOfTimes90DaysLate  \\\n",
       "149997                               18                        0   \n",
       "149998                                4                        0   \n",
       "149999                                8                        0   \n",
       "\n",
       "        NumberRealEstateLoansOrLines  NumberOfTime60-89DaysPastDueNotWorse  \\\n",
       "149997                             1                                     0   \n",
       "149998                             0                                     0   \n",
       "149999                             2                                     0   \n",
       "\n",
       "        NumberOfDependents  SeriousDlqin2yrs  \n",
       "149997                 0.0                 0  \n",
       "149998                 0.0                 0  \n",
       "149999                 0.0                 0  "
      ]
     },
     "execution_count": 8,
     "metadata": {},
     "output_type": "execute_result"
    }
   ],
   "source": [
    "df.tail(3)\n",
    "# similar logic here"
   ]
  },
  {
   "cell_type": "markdown",
   "metadata": {},
   "source": [
    "No trouble with loading the data. Both the head and tail are clean"
   ]
  },
  {
   "cell_type": "markdown",
   "metadata": {},
   "source": [
    "We are going to hold off on EDA & data correction until after the data augmentation"
   ]
  },
  {
   "cell_type": "markdown",
   "metadata": {},
   "source": [
    "## <a id = 4> Data Skewness Correction"
   ]
  },
  {
   "cell_type": "markdown",
   "metadata": {},
   "source": [
    "Data always beats algorithm. \n",
    "\n",
    "Given that our dataset is heavily skewed in favor of the negative class (ie non-fraud),\n",
    "any technique that brings the ratio closer to 50:50 should theoretically improve the performance.\n",
    "\n",
    "The theoretical reason for favoring the 50:50 ratio is that the results will be no worse than what was obtained with natural class distributions.\n",
    "\n",
    "https://www.researchgate.net/publication/2364670_The_Effect_of_Class_Distribution_on_Classifier_Learning_An_Empirical_Study"
   ]
  },
  {
   "cell_type": "markdown",
   "metadata": {},
   "source": [
    "Broadly there are 2 approaches to data skewness correction: undersampling and oversampling\n",
    "    \n",
    "In Undersampling, we throw away the negative class until the remaining data is balanced.\n",
    "\n",
    "In Oversampling, we sample  repeatedly the positive class until the synthetic data is balanced\n",
    "\n",
    "There is also the hybrid approach where we sample both classes simultaneously until the minority class reaches a threshold and I will also introduce a custom function to generate samples.\n",
    "\n",
    "But first, lets do some groundwork ...."
   ]
  },
  {
   "cell_type": "markdown",
   "metadata": {},
   "source": [
    "### <a id = 41> Prepping before resampling"
   ]
  },
  {
   "cell_type": "markdown",
   "metadata": {},
   "source": [
    "#### <a id = 411> Import cleaned dataframe from Day1"
   ]
  },
  {
   "cell_type": "markdown",
   "metadata": {},
   "source": [
    "This is just to compare the resampling techniques and doesnt affect the subsequent steps. Hence use the cleaned dataset from last week"
   ]
  },
  {
   "cell_type": "code",
   "execution_count": 9,
   "metadata": {},
   "outputs": [],
   "source": [
    "import pickle\n",
    "\n",
    "infile = open(clean_df_file_name,'rb')\n",
    "clean_df = pickle.load(infile)\n",
    "infile.close()\n"
   ]
  },
  {
   "cell_type": "markdown",
   "metadata": {},
   "source": [
    "#### <a id = 412> Feature Target and Train Test Split"
   ]
  },
  {
   "cell_type": "markdown",
   "metadata": {},
   "source": [
    "\n",
    "Why should we do the train test split here rather than just before the modelling?\n",
    "\n",
    "Because the data augmentation techniques should leave the Test set alone and only augment the train set. The Test set should be a valid representation of how the unseen unlabelled production data will occur during which time we wont have the luxury of correcting the imbalance\n"
   ]
  },
  {
   "cell_type": "code",
   "execution_count": 10,
   "metadata": {},
   "outputs": [
    {
     "name": "stdout",
     "output_type": "stream",
     "text": [
      "(96215, 10) (24054, 10) 6686 1671\n"
     ]
    }
   ],
   "source": [
    "# Feature Target split\n",
    "clean_X = clean_df.drop(target_class_name, axis=1)\n",
    "clean_y = clean_df[target_class_name]\n",
    "\n",
    "# split into train and test set and make sure to use the stratify = y\n",
    "from sklearn.model_selection import train_test_split\n",
    "X_train, X_test, y_train, y_test = train_test_split(clean_X, clean_y, test_size=0.2, \n",
    "                                                    stratify=clean_y, random_state=42)\n",
    "\n",
    "# These are the original dimensions and the class distributions\n",
    "print(X_train.shape, X_test.shape, sum(y_train), sum(y_test))\n"
   ]
  },
  {
   "cell_type": "markdown",
   "metadata": {},
   "source": [
    "#### <a id = 413> Initializing Metrics Capture"
   ]
  },
  {
   "cell_type": "markdown",
   "metadata": {},
   "source": [
    "Let me initialize a dataframe to hold relevant metrics for each of the augmentation techniques we are going to try"
   ]
  },
  {
   "cell_type": "code",
   "execution_count": 11,
   "metadata": {},
   "outputs": [
    {
     "data": {
      "text/html": [
       "<div>\n",
       "<style scoped>\n",
       "    .dataframe tbody tr th:only-of-type {\n",
       "        vertical-align: middle;\n",
       "    }\n",
       "\n",
       "    .dataframe tbody tr th {\n",
       "        vertical-align: top;\n",
       "    }\n",
       "\n",
       "    .dataframe thead th {\n",
       "        text-align: right;\n",
       "    }\n",
       "</style>\n",
       "<table border=\"1\" class=\"dataframe\">\n",
       "  <thead>\n",
       "    <tr style=\"text-align: right;\">\n",
       "      <th></th>\n",
       "      <th>Pos_Precision</th>\n",
       "      <th>Pos_Recall</th>\n",
       "      <th>Pos_F1</th>\n",
       "      <th>ROC AUC</th>\n",
       "      <th>FN</th>\n",
       "      <th>TP</th>\n",
       "      <th>FP</th>\n",
       "      <th>TN</th>\n",
       "      <th>Precision_at_Recall</th>\n",
       "    </tr>\n",
       "  </thead>\n",
       "  <tbody>\n",
       "    <tr>\n",
       "      <th>Undersampling</th>\n",
       "      <td>NaN</td>\n",
       "      <td>NaN</td>\n",
       "      <td>NaN</td>\n",
       "      <td>NaN</td>\n",
       "      <td>NaN</td>\n",
       "      <td>NaN</td>\n",
       "      <td>NaN</td>\n",
       "      <td>NaN</td>\n",
       "      <td>NaN</td>\n",
       "    </tr>\n",
       "    <tr>\n",
       "      <th>Oversampling</th>\n",
       "      <td>NaN</td>\n",
       "      <td>NaN</td>\n",
       "      <td>NaN</td>\n",
       "      <td>NaN</td>\n",
       "      <td>NaN</td>\n",
       "      <td>NaN</td>\n",
       "      <td>NaN</td>\n",
       "      <td>NaN</td>\n",
       "      <td>NaN</td>\n",
       "    </tr>\n",
       "    <tr>\n",
       "      <th>Hybrid</th>\n",
       "      <td>NaN</td>\n",
       "      <td>NaN</td>\n",
       "      <td>NaN</td>\n",
       "      <td>NaN</td>\n",
       "      <td>NaN</td>\n",
       "      <td>NaN</td>\n",
       "      <td>NaN</td>\n",
       "      <td>NaN</td>\n",
       "      <td>NaN</td>\n",
       "    </tr>\n",
       "    <tr>\n",
       "      <th>Custom</th>\n",
       "      <td>NaN</td>\n",
       "      <td>NaN</td>\n",
       "      <td>NaN</td>\n",
       "      <td>NaN</td>\n",
       "      <td>NaN</td>\n",
       "      <td>NaN</td>\n",
       "      <td>NaN</td>\n",
       "      <td>NaN</td>\n",
       "      <td>NaN</td>\n",
       "    </tr>\n",
       "  </tbody>\n",
       "</table>\n",
       "</div>"
      ],
      "text/plain": [
       "              Pos_Precision Pos_Recall Pos_F1 ROC AUC   FN   TP   FP   TN  \\\n",
       "Undersampling           NaN        NaN    NaN     NaN  NaN  NaN  NaN  NaN   \n",
       "Oversampling            NaN        NaN    NaN     NaN  NaN  NaN  NaN  NaN   \n",
       "Hybrid                  NaN        NaN    NaN     NaN  NaN  NaN  NaN  NaN   \n",
       "Custom                  NaN        NaN    NaN     NaN  NaN  NaN  NaN  NaN   \n",
       "\n",
       "              Precision_at_Recall  \n",
       "Undersampling                 NaN  \n",
       "Oversampling                  NaN  \n",
       "Hybrid                        NaN  \n",
       "Custom                        NaN  "
      ]
     },
     "execution_count": 11,
     "metadata": {},
     "output_type": "execute_result"
    }
   ],
   "source": [
    "sampling_strategy_metrics_df = pd.DataFrame(\n",
    "columns = ['Pos_Precision','Pos_Recall','Pos_F1',\n",
    "           'ROC AUC','FN','TP','FP','TN','Precision_at_Recall'],\n",
    "index = ['Undersampling','Oversampling','Hybrid','Custom'])\n",
    "\n",
    "sampling_strategy_metrics_df\n",
    "\n",
    "# Depending on the business problem, one or more of these metrics will be more important.\n",
    "# Here lets assume that the Recall is what we are interested in \n",
    "# as long as the Precision is not too far off\n",
    "# Unlike balanced datasets, the ROC AUC is a poor indicator here \n",
    "# because the algorithm can get 'good' scores by just predicting\n",
    "# everything as the majority class.\n",
    "\n",
    "# The prefixes exist for the Precision, Recall and F1 \n",
    "# because I am only interested in the positive class"
   ]
  },
  {
   "cell_type": "markdown",
   "metadata": {},
   "source": [
    "#### <a id = 414> Importing Test Functions"
   ]
  },
  {
   "cell_type": "markdown",
   "metadata": {},
   "source": [
    "Given that there are 4 techniques that I want to compare, its better to have a custom function that to avoid repeating code. I am going to create a wrapper around my metrics function to output the resampled train sets and test metrics"
   ]
  },
  {
   "cell_type": "code",
   "execution_count": 12,
   "metadata": {},
   "outputs": [],
   "source": [
    "from helper_functions_comprehensive import resample_and_test_performance_function"
   ]
  },
  {
   "cell_type": "markdown",
   "metadata": {},
   "source": [
    "### <a id = 42> Resampling Strategies Comparison"
   ]
  },
  {
   "cell_type": "markdown",
   "metadata": {},
   "source": [
    "There are many techniques for undersampling, oversampling and the hybrid approach. One popular API is imblearn available at\n",
    "https://imbalanced-learn.readthedocs.io/en/stable/api.html\n",
    "\n",
    "In this notebook, I am going to pick one implementation for each approach and compare results. \n",
    "The reader is encouraged to try all"
   ]
  },
  {
   "cell_type": "markdown",
   "metadata": {},
   "source": [
    "#### <a id = 411> Resampling Method1: Undersampling - RandomUnderSampler"
   ]
  },
  {
   "cell_type": "markdown",
   "metadata": {},
   "source": [
    "In the first implementation, I am going to downsample my majority (negative) class using the RandomUnderSampler method as the name suggests, the algorithm randomly selects the minority class until the class ratio is the same\n",
    "\n",
    "The reader is encouraged to select more sophisticated techniques available in imblearn API documentation"
   ]
  },
  {
   "cell_type": "code",
   "execution_count": 13,
   "metadata": {},
   "outputs": [
    {
     "name": "stdout",
     "output_type": "stream",
     "text": [
      "The size of the resampled train sets are as follows:\n",
      "(96215, 10) 6686\n",
      "Has a Test accuracy of 93.0 % \n",
      "              precision    recall  f1-score   support\n",
      "\n",
      " No Distress       0.94      0.99      0.96     22383\n",
      "    Distress       0.54      0.18      0.27      1671\n",
      "\n",
      "    accuracy                           0.93     24054\n",
      "   macro avg       0.74      0.58      0.62     24054\n",
      "weighted avg       0.91      0.93      0.92     24054\n",
      "\n",
      "The ROC AUC Score on Test set is 0.82\n",
      "Confusion matrix, without normalization\n",
      "[[22124   259]\n",
      " [ 1369   302]]\n"
     ]
    },
    {
     "data": {
      "image/png": "[encoded data removed]",
      "text/plain": [
       "<Figure size 720x432 with 1 Axes>"
      ]
     },
     "metadata": {},
     "output_type": "display_data"
    },
    {
     "data": {
      "image/png": "[encoded data removed]",
      "text/plain": [
       "<Figure size 576x288 with 2 Axes>"
      ]
     },
     "metadata": {},
     "output_type": "display_data"
    }
   ],
   "source": [
    "from imblearn.under_sampling import RandomUnderSampler\n",
    "\n",
    "_,__, sampling_strategy_metrics_df.loc['Undersampling'] = resample_and_test_performance_function(\n",
    "                    RandomUnderSampler(random_state=42, sampling_strategy='not majority'), \n",
    "                    X_train, y_train, X_test, y_test, labels)\n",
    "\n",
    "# Notice how the size of the downsampled dataset is exactly \n",
    "# twice as large as the number of minority positive class"
   ]
  },
  {
   "cell_type": "code",
   "execution_count": 14,
   "metadata": {},
   "outputs": [
    {
     "data": {
      "text/html": [
       "<div>\n",
       "<style scoped>\n",
       "    .dataframe tbody tr th:only-of-type {\n",
       "        vertical-align: middle;\n",
       "    }\n",
       "\n",
       "    .dataframe tbody tr th {\n",
       "        vertical-align: top;\n",
       "    }\n",
       "\n",
       "    .dataframe thead th {\n",
       "        text-align: right;\n",
       "    }\n",
       "</style>\n",
       "<table border=\"1\" class=\"dataframe\">\n",
       "  <thead>\n",
       "    <tr style=\"text-align: right;\">\n",
       "      <th></th>\n",
       "      <th>Pos_Precision</th>\n",
       "      <th>Pos_Recall</th>\n",
       "      <th>Pos_F1</th>\n",
       "      <th>ROC AUC</th>\n",
       "      <th>FN</th>\n",
       "      <th>TP</th>\n",
       "      <th>FP</th>\n",
       "      <th>TN</th>\n",
       "      <th>Precision_at_Recall</th>\n",
       "    </tr>\n",
       "  </thead>\n",
       "  <tbody>\n",
       "    <tr>\n",
       "      <th>Undersampling</th>\n",
       "      <td>0.538324</td>\n",
       "      <td>0.18073</td>\n",
       "      <td>0.270609</td>\n",
       "      <td>0.82</td>\n",
       "      <td>1369</td>\n",
       "      <td>302</td>\n",
       "      <td>259</td>\n",
       "      <td>22124</td>\n",
       "      <td>0.126401</td>\n",
       "    </tr>\n",
       "    <tr>\n",
       "      <th>Oversampling</th>\n",
       "      <td>NaN</td>\n",
       "      <td>NaN</td>\n",
       "      <td>NaN</td>\n",
       "      <td>NaN</td>\n",
       "      <td>NaN</td>\n",
       "      <td>NaN</td>\n",
       "      <td>NaN</td>\n",
       "      <td>NaN</td>\n",
       "      <td>NaN</td>\n",
       "    </tr>\n",
       "    <tr>\n",
       "      <th>Hybrid</th>\n",
       "      <td>NaN</td>\n",
       "      <td>NaN</td>\n",
       "      <td>NaN</td>\n",
       "      <td>NaN</td>\n",
       "      <td>NaN</td>\n",
       "      <td>NaN</td>\n",
       "      <td>NaN</td>\n",
       "      <td>NaN</td>\n",
       "      <td>NaN</td>\n",
       "    </tr>\n",
       "    <tr>\n",
       "      <th>Custom</th>\n",
       "      <td>NaN</td>\n",
       "      <td>NaN</td>\n",
       "      <td>NaN</td>\n",
       "      <td>NaN</td>\n",
       "      <td>NaN</td>\n",
       "      <td>NaN</td>\n",
       "      <td>NaN</td>\n",
       "      <td>NaN</td>\n",
       "      <td>NaN</td>\n",
       "    </tr>\n",
       "  </tbody>\n",
       "</table>\n",
       "</div>"
      ],
      "text/plain": [
       "              Pos_Precision Pos_Recall    Pos_F1 ROC AUC    FN   TP   FP  \\\n",
       "Undersampling      0.538324    0.18073  0.270609    0.82  1369  302  259   \n",
       "Oversampling            NaN        NaN       NaN     NaN   NaN  NaN  NaN   \n",
       "Hybrid                  NaN        NaN       NaN     NaN   NaN  NaN  NaN   \n",
       "Custom                  NaN        NaN       NaN     NaN   NaN  NaN  NaN   \n",
       "\n",
       "                  TN Precision_at_Recall  \n",
       "Undersampling  22124            0.126401  \n",
       "Oversampling     NaN                 NaN  \n",
       "Hybrid           NaN                 NaN  \n",
       "Custom           NaN                 NaN  "
      ]
     },
     "execution_count": 14,
     "metadata": {},
     "output_type": "execute_result"
    }
   ],
   "source": [
    "sampling_strategy_metrics_df"
   ]
  },
  {
   "cell_type": "markdown",
   "metadata": {},
   "source": [
    "The Precision at Recall is slightly worse than the baseline"
   ]
  },
  {
   "cell_type": "markdown",
   "metadata": {},
   "source": [
    "If the modelling efforts were to stop now, business will likely choose the baseline model from day1\n",
    "because of its simplicity"
   ]
  },
  {
   "cell_type": "markdown",
   "metadata": {},
   "source": [
    "#### <a id = 422>Resampling Method2: Oversampling - SMOTE"
   ]
  },
  {
   "cell_type": "markdown",
   "metadata": {},
   "source": [
    "Next, I am going to try a popular oversampling technique for SMOTE\n",
    "SMOTE stands for Synthetic Minority Over-sampling Technique and was presented in a 2002 paper here\n",
    "https://jair.org/index.php/jair/article/view/10302/24590\n",
    "\n",
    "this technique is theoretically superior to just oversampling with replacement for the minority class \n",
    "(the latter causes the decision tree to overfit)\n",
    "In SMOTE, instead of sampling with replacement of the original minority class, synthetic new samples are generated\n",
    "According to the article, Synthetic samples are generated in the following way: "
   ]
  },
  {
   "cell_type": "markdown",
   "metadata": {},
   "source": [
    "\"Take the difference between the feature vector (sample)under consideration and its nearest neighbor. \n",
    "Multiply this difference by a random numberbetween 0 and 1, and add it to the feature vector under consideration.  \n",
    "This causes the selection of a random point along the line segment between two specific features.  \n",
    "This approach effectively forces the decision region of the minority class to become more general.\""
   ]
  },
  {
   "cell_type": "code",
   "execution_count": 15,
   "metadata": {},
   "outputs": [
    {
     "name": "stdout",
     "output_type": "stream",
     "text": [
      "The size of the resampled train sets are as follows:\n",
      "(179058, 10) 89529\n",
      "Has a Test accuracy of 93.0 % \n",
      "              precision    recall  f1-score   support\n",
      "\n",
      " No Distress       0.95      0.98      0.96     22383\n",
      "    Distress       0.49      0.24      0.32      1671\n",
      "\n",
      "    accuracy                           0.93     24054\n",
      "   macro avg       0.72      0.61      0.64     24054\n",
      "weighted avg       0.91      0.93      0.92     24054\n",
      "\n",
      "The ROC AUC Score on Test set is 0.83\n",
      "Confusion matrix, without normalization\n",
      "[[21955   428]\n",
      " [ 1265   406]]\n"
     ]
    },
    {
     "data": {
      "image/png": "[encoded data removed]",
      "text/plain": [
       "<Figure size 720x432 with 1 Axes>"
      ]
     },
     "metadata": {},
     "output_type": "display_data"
    },
    {
     "data": {
      "image/png": "[encoded data removed]",
      "text/plain": [
       "<Figure size 576x288 with 2 Axes>"
      ]
     },
     "metadata": {},
     "output_type": "display_data"
    }
   ],
   "source": [
    "from imblearn.over_sampling import SMOTE\n",
    "\n",
    "_,__, sampling_strategy_metrics_df.loc['Oversampling'] = resample_and_test_performance_function(\n",
    "                                SMOTE(random_state=42), X_train, y_train, X_test, y_test, labels)\n",
    "\n",
    "# Notice how the upsampled dataset is exactly twice as large as the number of minority positive class\n",
    "# This is characteristic of SMOTE"
   ]
  },
  {
   "cell_type": "code",
   "execution_count": 16,
   "metadata": {},
   "outputs": [
    {
     "data": {
      "text/html": [
       "<div>\n",
       "<style scoped>\n",
       "    .dataframe tbody tr th:only-of-type {\n",
       "        vertical-align: middle;\n",
       "    }\n",
       "\n",
       "    .dataframe tbody tr th {\n",
       "        vertical-align: top;\n",
       "    }\n",
       "\n",
       "    .dataframe thead th {\n",
       "        text-align: right;\n",
       "    }\n",
       "</style>\n",
       "<table border=\"1\" class=\"dataframe\">\n",
       "  <thead>\n",
       "    <tr style=\"text-align: right;\">\n",
       "      <th></th>\n",
       "      <th>Pos_Precision</th>\n",
       "      <th>Pos_Recall</th>\n",
       "      <th>Pos_F1</th>\n",
       "      <th>ROC AUC</th>\n",
       "      <th>FN</th>\n",
       "      <th>TP</th>\n",
       "      <th>FP</th>\n",
       "      <th>TN</th>\n",
       "      <th>Precision_at_Recall</th>\n",
       "    </tr>\n",
       "  </thead>\n",
       "  <tbody>\n",
       "    <tr>\n",
       "      <th>Undersampling</th>\n",
       "      <td>0.538324</td>\n",
       "      <td>0.18073</td>\n",
       "      <td>0.270609</td>\n",
       "      <td>0.82</td>\n",
       "      <td>1369</td>\n",
       "      <td>302</td>\n",
       "      <td>259</td>\n",
       "      <td>22124</td>\n",
       "      <td>0.126401</td>\n",
       "    </tr>\n",
       "    <tr>\n",
       "      <th>Oversampling</th>\n",
       "      <td>0.486811</td>\n",
       "      <td>0.242968</td>\n",
       "      <td>0.324152</td>\n",
       "      <td>0.83</td>\n",
       "      <td>1265</td>\n",
       "      <td>406</td>\n",
       "      <td>428</td>\n",
       "      <td>21955</td>\n",
       "      <td>0.136772</td>\n",
       "    </tr>\n",
       "    <tr>\n",
       "      <th>Hybrid</th>\n",
       "      <td>NaN</td>\n",
       "      <td>NaN</td>\n",
       "      <td>NaN</td>\n",
       "      <td>NaN</td>\n",
       "      <td>NaN</td>\n",
       "      <td>NaN</td>\n",
       "      <td>NaN</td>\n",
       "      <td>NaN</td>\n",
       "      <td>NaN</td>\n",
       "    </tr>\n",
       "    <tr>\n",
       "      <th>Custom</th>\n",
       "      <td>NaN</td>\n",
       "      <td>NaN</td>\n",
       "      <td>NaN</td>\n",
       "      <td>NaN</td>\n",
       "      <td>NaN</td>\n",
       "      <td>NaN</td>\n",
       "      <td>NaN</td>\n",
       "      <td>NaN</td>\n",
       "      <td>NaN</td>\n",
       "    </tr>\n",
       "  </tbody>\n",
       "</table>\n",
       "</div>"
      ],
      "text/plain": [
       "              Pos_Precision Pos_Recall    Pos_F1 ROC AUC    FN   TP   FP  \\\n",
       "Undersampling      0.538324    0.18073  0.270609    0.82  1369  302  259   \n",
       "Oversampling       0.486811   0.242968  0.324152    0.83  1265  406  428   \n",
       "Hybrid                  NaN        NaN       NaN     NaN   NaN  NaN  NaN   \n",
       "Custom                  NaN        NaN       NaN     NaN   NaN  NaN  NaN   \n",
       "\n",
       "                  TN Precision_at_Recall  \n",
       "Undersampling  22124            0.126401  \n",
       "Oversampling   21955            0.136772  \n",
       "Hybrid           NaN                 NaN  \n",
       "Custom           NaN                 NaN  "
      ]
     },
     "execution_count": 16,
     "metadata": {},
     "output_type": "execute_result"
    }
   ],
   "source": [
    "sampling_strategy_metrics_df"
   ]
  },
  {
   "cell_type": "markdown",
   "metadata": {},
   "source": [
    "This is also better than the baseline model"
   ]
  },
  {
   "cell_type": "markdown",
   "metadata": {},
   "source": [
    "Next, we are going to explore how the performance is affected if we go with a combination of upsampling and undersampling"
   ]
  },
  {
   "cell_type": "markdown",
   "metadata": {},
   "source": [
    "#### <a id = 423>Resampling Method3: Hybrid Oversampling and Undersampling using SMOTEENN"
   ]
  },
  {
   "cell_type": "markdown",
   "metadata": {},
   "source": [
    "We are going to explore a strategy known as SMOTEENN\n",
    "which combines the now-familiar SMOTE upsampling technique with ENN undersampling\n",
    "https://imbalanced-learn.readthedocs.io/en/stable/api.html#module-imblearn.combine\n",
    "\n",
    "\n",
    "ENN is Edited Nearest Neighbors which first oversamples both the minority and majority class until they are balanced.\n",
    "Then the Tomek links are removed. This prevents the majority class from 'intruding' too deep into the minority class space\n",
    "This is explained in the following paper https://pdfs.semanticscholar.org/c1a9/5197e15fa99f55cd0cb2ee14d2f02699a919.pdf\n",
    "\n",
    "the original description of Tomek links is given in the IEEE paper from 1976\n",
    "https://ieeexplore.ieee.org/stamp/stamp.jsp?tp=&arnumber=4309452"
   ]
  },
  {
   "cell_type": "code",
   "execution_count": 17,
   "metadata": {},
   "outputs": [
    {
     "name": "stdout",
     "output_type": "stream",
     "text": [
      "The size of the resampled train sets are as follows:\n",
      "(137130, 10) 77059\n",
      "Has a Test accuracy of 92.0 % \n",
      "              precision    recall  f1-score   support\n",
      "\n",
      " No Distress       0.95      0.96      0.96     22383\n",
      "    Distress       0.40      0.38      0.39      1671\n",
      "\n",
      "    accuracy                           0.92     24054\n",
      "   macro avg       0.68      0.67      0.67     24054\n",
      "weighted avg       0.92      0.92      0.92     24054\n",
      "\n",
      "The ROC AUC Score on Test set is 0.83\n",
      "Confusion matrix, without normalization\n",
      "[[21437   946]\n",
      " [ 1034   637]]\n"
     ]
    },
    {
     "data": {
      "image/png": "[encoded data removed]",
      "text/plain": [
       "<Figure size 720x432 with 1 Axes>"
      ]
     },
     "metadata": {},
     "output_type": "display_data"
    },
    {
     "data": {
      "image/png": "[encoded data removed]",
      "text/plain": [
       "<Figure size 576x288 with 2 Axes>"
      ]
     },
     "metadata": {},
     "output_type": "display_data"
    }
   ],
   "source": [
    "from imblearn.combine import SMOTEENN\n",
    "\n",
    "# Note that unlike the previous 2 methods, SMOTEENN comes with the param for the sampling_strategy.\n",
    "# The default is auto' which will select the minority class only but I chose to resample both classes\n",
    "\n",
    "_,__, sampling_strategy_metrics_df.loc['Hybrid'] = resample_and_test_performance_function(\n",
    "SMOTEENN(sampling_strategy = 'all' ,random_state=42), X_train, y_train, X_test, y_test, labels)\n",
    "\n",
    "# Unlike the other resampling strategies, the resampled data size isnt easy to infer from the original data size"
   ]
  },
  {
   "cell_type": "code",
   "execution_count": 18,
   "metadata": {},
   "outputs": [
    {
     "data": {
      "text/html": [
       "<div>\n",
       "<style scoped>\n",
       "    .dataframe tbody tr th:only-of-type {\n",
       "        vertical-align: middle;\n",
       "    }\n",
       "\n",
       "    .dataframe tbody tr th {\n",
       "        vertical-align: top;\n",
       "    }\n",
       "\n",
       "    .dataframe thead th {\n",
       "        text-align: right;\n",
       "    }\n",
       "</style>\n",
       "<table border=\"1\" class=\"dataframe\">\n",
       "  <thead>\n",
       "    <tr style=\"text-align: right;\">\n",
       "      <th></th>\n",
       "      <th>Pos_Precision</th>\n",
       "      <th>Pos_Recall</th>\n",
       "      <th>Pos_F1</th>\n",
       "      <th>ROC AUC</th>\n",
       "      <th>FN</th>\n",
       "      <th>TP</th>\n",
       "      <th>FP</th>\n",
       "      <th>TN</th>\n",
       "      <th>Precision_at_Recall</th>\n",
       "    </tr>\n",
       "  </thead>\n",
       "  <tbody>\n",
       "    <tr>\n",
       "      <th>Undersampling</th>\n",
       "      <td>0.538324</td>\n",
       "      <td>0.18073</td>\n",
       "      <td>0.270609</td>\n",
       "      <td>0.82</td>\n",
       "      <td>1369</td>\n",
       "      <td>302</td>\n",
       "      <td>259</td>\n",
       "      <td>22124</td>\n",
       "      <td>0.126401</td>\n",
       "    </tr>\n",
       "    <tr>\n",
       "      <th>Oversampling</th>\n",
       "      <td>0.486811</td>\n",
       "      <td>0.242968</td>\n",
       "      <td>0.324152</td>\n",
       "      <td>0.83</td>\n",
       "      <td>1265</td>\n",
       "      <td>406</td>\n",
       "      <td>428</td>\n",
       "      <td>21955</td>\n",
       "      <td>0.136772</td>\n",
       "    </tr>\n",
       "    <tr>\n",
       "      <th>Hybrid</th>\n",
       "      <td>0.402401</td>\n",
       "      <td>0.381209</td>\n",
       "      <td>0.391518</td>\n",
       "      <td>0.83</td>\n",
       "      <td>1034</td>\n",
       "      <td>637</td>\n",
       "      <td>946</td>\n",
       "      <td>21437</td>\n",
       "      <td>0.139171</td>\n",
       "    </tr>\n",
       "    <tr>\n",
       "      <th>Custom</th>\n",
       "      <td>NaN</td>\n",
       "      <td>NaN</td>\n",
       "      <td>NaN</td>\n",
       "      <td>NaN</td>\n",
       "      <td>NaN</td>\n",
       "      <td>NaN</td>\n",
       "      <td>NaN</td>\n",
       "      <td>NaN</td>\n",
       "      <td>NaN</td>\n",
       "    </tr>\n",
       "  </tbody>\n",
       "</table>\n",
       "</div>"
      ],
      "text/plain": [
       "              Pos_Precision Pos_Recall    Pos_F1 ROC AUC    FN   TP   FP  \\\n",
       "Undersampling      0.538324    0.18073  0.270609    0.82  1369  302  259   \n",
       "Oversampling       0.486811   0.242968  0.324152    0.83  1265  406  428   \n",
       "Hybrid             0.402401   0.381209  0.391518    0.83  1034  637  946   \n",
       "Custom                  NaN        NaN       NaN     NaN   NaN  NaN  NaN   \n",
       "\n",
       "                  TN Precision_at_Recall  \n",
       "Undersampling  22124            0.126401  \n",
       "Oversampling   21955            0.136772  \n",
       "Hybrid         21437            0.139171  \n",
       "Custom           NaN                 NaN  "
      ]
     },
     "execution_count": 18,
     "metadata": {},
     "output_type": "execute_result"
    }
   ],
   "source": [
    "sampling_strategy_metrics_df"
   ]
  },
  {
   "cell_type": "markdown",
   "metadata": {},
   "source": [
    "Hybrid performance is similar to the Undersampling technique"
   ]
  },
  {
   "cell_type": "markdown",
   "metadata": {},
   "source": [
    "#### <a id = 424>Resampling Method4: Custom function to oversample at different rates"
   ]
  },
  {
   "cell_type": "code",
   "execution_count": 19,
   "metadata": {},
   "outputs": [],
   "source": [
    "# The generalized version of the oversampling is when we simultaneously upsample both the classes at different rates"
   ]
  },
  {
   "cell_type": "code",
   "execution_count": 20,
   "metadata": {},
   "outputs": [
    {
     "name": "stdout",
     "output_type": "stream",
     "text": [
      "(205802, 10) 26744.0\n"
     ]
    }
   ],
   "source": [
    "from helper_functions_comprehensive import augment_data_function\n",
    "X_resampled_train, y_resampled_train = augment_data_function(X_train, y_train, \n",
    "                    positive_upsampling_ratio=4, negative_upsampling_ratio=2)\n",
    "print(X_resampled_train.shape,sum(y_resampled_train))"
   ]
  },
  {
   "cell_type": "code",
   "execution_count": 21,
   "metadata": {},
   "outputs": [
    {
     "name": "stdout",
     "output_type": "stream",
     "text": [
      "Has a Test accuracy of 92.0 % \n",
      "              precision    recall  f1-score   support\n",
      "\n",
      " No Distress       0.95      0.97      0.96     22383\n",
      "    Distress       0.45      0.35      0.39      1671\n",
      "\n",
      "    accuracy                           0.92     24054\n",
      "   macro avg       0.70      0.66      0.68     24054\n",
      "weighted avg       0.92      0.92      0.92     24054\n",
      "\n",
      "The ROC AUC Score on Test set is 0.83\n",
      "Confusion matrix, without normalization\n",
      "[[21664   719]\n",
      " [ 1087   584]]\n"
     ]
    },
    {
     "data": {
      "image/png": "[encoded data removed]",
      "text/plain": [
       "<Figure size 720x432 with 1 Axes>"
      ]
     },
     "metadata": {},
     "output_type": "display_data"
    },
    {
     "data": {
      "image/png": "[encoded data removed]",
      "text/plain": [
       "<Figure size 576x288 with 2 Axes>"
      ]
     },
     "metadata": {},
     "output_type": "display_data"
    }
   ],
   "source": [
    "from helper_functions_comprehensive import test_rf_performance_function\n",
    "sampling_strategy_metrics_df.loc['Custom'] = test_rf_performance_function(\n",
    "            X_resampled_train, y_resampled_train, X_test, y_test, labels)"
   ]
  },
  {
   "cell_type": "code",
   "execution_count": 22,
   "metadata": {},
   "outputs": [
    {
     "data": {
      "text/html": [
       "<div>\n",
       "<style scoped>\n",
       "    .dataframe tbody tr th:only-of-type {\n",
       "        vertical-align: middle;\n",
       "    }\n",
       "\n",
       "    .dataframe tbody tr th {\n",
       "        vertical-align: top;\n",
       "    }\n",
       "\n",
       "    .dataframe thead th {\n",
       "        text-align: right;\n",
       "    }\n",
       "</style>\n",
       "<table border=\"1\" class=\"dataframe\">\n",
       "  <thead>\n",
       "    <tr style=\"text-align: right;\">\n",
       "      <th></th>\n",
       "      <th>Pos_Precision</th>\n",
       "      <th>Pos_Recall</th>\n",
       "      <th>Pos_F1</th>\n",
       "      <th>ROC AUC</th>\n",
       "      <th>FN</th>\n",
       "      <th>TP</th>\n",
       "      <th>FP</th>\n",
       "      <th>TN</th>\n",
       "      <th>Precision_at_Recall</th>\n",
       "    </tr>\n",
       "  </thead>\n",
       "  <tbody>\n",
       "    <tr>\n",
       "      <th>Undersampling</th>\n",
       "      <td>0.538324</td>\n",
       "      <td>0.18073</td>\n",
       "      <td>0.270609</td>\n",
       "      <td>0.82</td>\n",
       "      <td>1369</td>\n",
       "      <td>302</td>\n",
       "      <td>259</td>\n",
       "      <td>22124</td>\n",
       "      <td>0.126401</td>\n",
       "    </tr>\n",
       "    <tr>\n",
       "      <th>Oversampling</th>\n",
       "      <td>0.486811</td>\n",
       "      <td>0.242968</td>\n",
       "      <td>0.324152</td>\n",
       "      <td>0.83</td>\n",
       "      <td>1265</td>\n",
       "      <td>406</td>\n",
       "      <td>428</td>\n",
       "      <td>21955</td>\n",
       "      <td>0.136772</td>\n",
       "    </tr>\n",
       "    <tr>\n",
       "      <th>Hybrid</th>\n",
       "      <td>0.402401</td>\n",
       "      <td>0.381209</td>\n",
       "      <td>0.391518</td>\n",
       "      <td>0.83</td>\n",
       "      <td>1034</td>\n",
       "      <td>637</td>\n",
       "      <td>946</td>\n",
       "      <td>21437</td>\n",
       "      <td>0.139171</td>\n",
       "    </tr>\n",
       "    <tr>\n",
       "      <th>Custom</th>\n",
       "      <td>0.448196</td>\n",
       "      <td>0.349491</td>\n",
       "      <td>0.392737</td>\n",
       "      <td>0.83</td>\n",
       "      <td>1087</td>\n",
       "      <td>584</td>\n",
       "      <td>719</td>\n",
       "      <td>21664</td>\n",
       "      <td>0.135905</td>\n",
       "    </tr>\n",
       "  </tbody>\n",
       "</table>\n",
       "</div>"
      ],
      "text/plain": [
       "              Pos_Precision Pos_Recall    Pos_F1 ROC AUC    FN   TP   FP  \\\n",
       "Undersampling      0.538324    0.18073  0.270609    0.82  1369  302  259   \n",
       "Oversampling       0.486811   0.242968  0.324152    0.83  1265  406  428   \n",
       "Hybrid             0.402401   0.381209  0.391518    0.83  1034  637  946   \n",
       "Custom             0.448196   0.349491  0.392737    0.83  1087  584  719   \n",
       "\n",
       "                  TN Precision_at_Recall  \n",
       "Undersampling  22124            0.126401  \n",
       "Oversampling   21955            0.136772  \n",
       "Hybrid         21437            0.139171  \n",
       "Custom         21664            0.135905  "
      ]
     },
     "execution_count": 22,
     "metadata": {},
     "output_type": "execute_result"
    }
   ],
   "source": [
    "sampling_strategy_metrics_df"
   ]
  },
  {
   "cell_type": "markdown",
   "metadata": {},
   "source": [
    "From now on choose the Hybrid (SMOTEENN) because it has the best performance amongst the resampling techniques"
   ]
  },
  {
   "cell_type": "markdown",
   "metadata": {},
   "source": [
    "### Next steps"
   ]
  },
  {
   "cell_type": "markdown",
   "metadata": {},
   "source": [
    "Now that we know what resampling technique to use and what is the benchmark performance to beat, lets bring back the raw dataset and clean it up"
   ]
  },
  {
   "cell_type": "markdown",
   "metadata": {},
   "source": [
    "The cleaning techniques will be kept only if they beat the performance above on the test set after resampling the train set"
   ]
  },
  {
   "cell_type": "markdown",
   "metadata": {},
   "source": [
    "## <a id = 5> Data Cleansing & EDA for ML Generalizability"
   ]
  },
  {
   "cell_type": "markdown",
   "metadata": {},
   "source": [
    "There is a very significant chunk of data munging about to be done here to increase the data quality"
   ]
  },
  {
   "cell_type": "markdown",
   "metadata": {},
   "source": [
    "### <a id = 51> Pre-cleaning setup"
   ]
  },
  {
   "cell_type": "markdown",
   "metadata": {},
   "source": [
    "this dataset is fairly okay and there isnt anything that needs to be applied to the whole dataset. So we will skip this section"
   ]
  },
  {
   "cell_type": "markdown",
   "metadata": {},
   "source": [
    "### <a id = 52> EDA for ML Generalizability"
   ]
  },
  {
   "cell_type": "markdown",
   "metadata": {},
   "source": [
    "This is the section where we deep dive into the data and do EDA. However I am only going to focus on the top features in the interests of time. The idea is to identify patterns in the data that will eventually make our model more powerful (either through Feature Engineering done in Day3 or removing data points because they are outliers which are unlikely to occur in Production data"
   ]
  },
  {
   "cell_type": "markdown",
   "metadata": {},
   "source": [
    "#### <a id = 521> Selecting top features - Feature Importances"
   ]
  },
  {
   "cell_type": "markdown",
   "metadata": {},
   "source": [
    "Note that I am going to use the clean_df to determine the feature importances along with the winning data augmentation technique"
   ]
  },
  {
   "cell_type": "code",
   "execution_count": 23,
   "metadata": {},
   "outputs": [
    {
     "data": {
      "text/plain": [
       "6686"
      ]
     },
     "execution_count": 23,
     "metadata": {},
     "output_type": "execute_result"
    }
   ],
   "source": [
    "sum(y_train)"
   ]
  },
  {
   "cell_type": "code",
   "execution_count": 24,
   "metadata": {},
   "outputs": [],
   "source": [
    "X_resampled_train, y_resampled_train = SMOTEENN(sampling_strategy = 'all' ,\n",
    "                                                random_state=42).fit_resample(X_train, y_train)"
   ]
  },
  {
   "cell_type": "code",
   "execution_count": 25,
   "metadata": {},
   "outputs": [
    {
     "data": {
      "text/plain": [
       "RandomForestClassifier(bootstrap=True, ccp_alpha=0.0, class_weight=None,\n",
       "                       criterion='gini', max_depth=None, max_features='auto',\n",
       "                       max_leaf_nodes=None, max_samples=None,\n",
       "                       min_impurity_decrease=0.0, min_impurity_split=None,\n",
       "                       min_samples_leaf=1, min_samples_split=2,\n",
       "                       min_weight_fraction_leaf=0.0, n_estimators=100,\n",
       "                       n_jobs=None, oob_score=False, random_state=42, verbose=0,\n",
       "                       warm_start=False)"
      ]
     },
     "execution_count": 25,
     "metadata": {},
     "output_type": "execute_result"
    }
   ],
   "source": [
    "# Lets define a simple classifier based on the above augmented data\n",
    "\n",
    "from sklearn.ensemble import RandomForestClassifier\n",
    "classifier = RandomForestClassifier(random_state = 42)\n",
    "\n",
    "# Fit on the resampled train data\n",
    "classifier.fit(X_resampled_train, y_resampled_train)"
   ]
  },
  {
   "cell_type": "code",
   "execution_count": 26,
   "metadata": {},
   "outputs": [
    {
     "data": {
      "text/html": [
       "<div>\n",
       "<style scoped>\n",
       "    .dataframe tbody tr th:only-of-type {\n",
       "        vertical-align: middle;\n",
       "    }\n",
       "\n",
       "    .dataframe tbody tr th {\n",
       "        vertical-align: top;\n",
       "    }\n",
       "\n",
       "    .dataframe thead th {\n",
       "        text-align: right;\n",
       "    }\n",
       "</style>\n",
       "<table border=\"1\" class=\"dataframe\">\n",
       "  <thead>\n",
       "    <tr style=\"text-align: right;\">\n",
       "      <th></th>\n",
       "      <th>feature</th>\n",
       "      <th>importance</th>\n",
       "    </tr>\n",
       "  </thead>\n",
       "  <tbody>\n",
       "    <tr>\n",
       "      <th>2</th>\n",
       "      <td>NumberOfTime30-59DaysPastDueNotWorse</td>\n",
       "      <td>0.264244</td>\n",
       "    </tr>\n",
       "    <tr>\n",
       "      <th>6</th>\n",
       "      <td>NumberOfTimes90DaysLate</td>\n",
       "      <td>0.160675</td>\n",
       "    </tr>\n",
       "    <tr>\n",
       "      <th>0</th>\n",
       "      <td>RevolvingUtilizationOfUnsecuredLines</td>\n",
       "      <td>0.147688</td>\n",
       "    </tr>\n",
       "    <tr>\n",
       "      <th>8</th>\n",
       "      <td>NumberOfTime60-89DaysPastDueNotWorse</td>\n",
       "      <td>0.084100</td>\n",
       "    </tr>\n",
       "    <tr>\n",
       "      <th>9</th>\n",
       "      <td>NumberOfDependents</td>\n",
       "      <td>0.081238</td>\n",
       "    </tr>\n",
       "  </tbody>\n",
       "</table>\n",
       "</div>"
      ],
      "text/plain": [
       "                                feature  importance\n",
       "2  NumberOfTime30-59DaysPastDueNotWorse    0.264244\n",
       "6               NumberOfTimes90DaysLate    0.160675\n",
       "0  RevolvingUtilizationOfUnsecuredLines    0.147688\n",
       "8  NumberOfTime60-89DaysPastDueNotWorse    0.084100\n",
       "9                    NumberOfDependents    0.081238"
      ]
     },
     "execution_count": 26,
     "metadata": {},
     "output_type": "execute_result"
    }
   ],
   "source": [
    "# Get the feature importances\n",
    "feature_importances = classifier.feature_importances_\n",
    "\n",
    "# Create a dataframe to hold the feature importances\n",
    "feature_importances_df = pd.DataFrame({'feature': list(clean_X.columns), \n",
    "'importance': feature_importances}).sort_values('importance', ascending = False)\n",
    "\n",
    "feature_importances_df.head(5)\n",
    "# Print from the highest to the lowest"
   ]
  },
  {
   "cell_type": "code",
   "execution_count": 27,
   "metadata": {},
   "outputs": [
    {
     "data": {
      "text/plain": [
       "['NumberOfTime30-59DaysPastDueNotWorse',\n",
       " 'NumberOfTimes90DaysLate',\n",
       " 'RevolvingUtilizationOfUnsecuredLines',\n",
       " 'NumberOfTime60-89DaysPastDueNotWorse',\n",
       " 'NumberOfDependents']"
      ]
     },
     "execution_count": 27,
     "metadata": {},
     "output_type": "execute_result"
    }
   ],
   "source": [
    "# Continue with the Outlier removal for the subset of the features identified above\n",
    "imp_column_list = list(feature_importances_df.head(5)['feature'].values)\n",
    "imp_column_list"
   ]
  },
  {
   "cell_type": "markdown",
   "metadata": {},
   "source": [
    "#### Isolating the Financial Distress data points"
   ]
  },
  {
   "cell_type": "markdown",
   "metadata": {},
   "source": [
    "Given that our dataset is skewed, if we were to include the whole dataset in identifying the outliers, the concern is that the outliers from the non-distressed customers will swamp the signal from the distressed cases. Hence the right thing to do will be to focus on the subset of the data that is labelled as distressed, remove those and merge it back with the overall dataset.\n",
    "\n",
    "As a first step, we need to join our features and target variable"
   ]
  },
  {
   "cell_type": "code",
   "execution_count": 28,
   "metadata": {},
   "outputs": [],
   "source": [
    "# Resampling converts them into arrays, so we need to change it back into dataframes\n",
    "X_resampled_train = pd.DataFrame(X_resampled_train, columns=clean_X.columns)\n",
    "y_resampled_train = pd.DataFrame(y_resampled_train)"
   ]
  },
  {
   "cell_type": "code",
   "execution_count": 29,
   "metadata": {},
   "outputs": [
    {
     "name": "stdout",
     "output_type": "stream",
     "text": [
      "137130 77059\n"
     ]
    },
    {
     "data": {
      "text/html": [
       "<div>\n",
       "<style scoped>\n",
       "    .dataframe tbody tr th:only-of-type {\n",
       "        vertical-align: middle;\n",
       "    }\n",
       "\n",
       "    .dataframe tbody tr th {\n",
       "        vertical-align: top;\n",
       "    }\n",
       "\n",
       "    .dataframe thead th {\n",
       "        text-align: right;\n",
       "    }\n",
       "</style>\n",
       "<table border=\"1\" class=\"dataframe\">\n",
       "  <thead>\n",
       "    <tr style=\"text-align: right;\">\n",
       "      <th></th>\n",
       "      <th>RevolvingUtilizationOfUnsecuredLines</th>\n",
       "      <th>age</th>\n",
       "      <th>NumberOfTime30-59DaysPastDueNotWorse</th>\n",
       "      <th>DebtRatio</th>\n",
       "      <th>MonthlyIncome</th>\n",
       "      <th>NumberOfOpenCreditLinesAndLoans</th>\n",
       "      <th>NumberOfTimes90DaysLate</th>\n",
       "      <th>NumberRealEstateLoansOrLines</th>\n",
       "      <th>NumberOfTime60-89DaysPastDueNotWorse</th>\n",
       "      <th>NumberOfDependents</th>\n",
       "      <th>SeriousDlqin2yrs</th>\n",
       "    </tr>\n",
       "  </thead>\n",
       "  <tbody>\n",
       "    <tr>\n",
       "      <th>0</th>\n",
       "      <td>0.337581</td>\n",
       "      <td>41.0</td>\n",
       "      <td>0.0</td>\n",
       "      <td>0.690655</td>\n",
       "      <td>2000.0</td>\n",
       "      <td>6.0</td>\n",
       "      <td>0.0</td>\n",
       "      <td>1.0</td>\n",
       "      <td>0.0</td>\n",
       "      <td>1.0</td>\n",
       "      <td>0</td>\n",
       "    </tr>\n",
       "    <tr>\n",
       "      <th>1</th>\n",
       "      <td>0.093061</td>\n",
       "      <td>67.0</td>\n",
       "      <td>0.0</td>\n",
       "      <td>0.158931</td>\n",
       "      <td>8833.0</td>\n",
       "      <td>9.0</td>\n",
       "      <td>0.0</td>\n",
       "      <td>2.0</td>\n",
       "      <td>0.0</td>\n",
       "      <td>0.0</td>\n",
       "      <td>0</td>\n",
       "    </tr>\n",
       "    <tr>\n",
       "      <th>2</th>\n",
       "      <td>0.959315</td>\n",
       "      <td>46.0</td>\n",
       "      <td>1.0</td>\n",
       "      <td>1.107108</td>\n",
       "      <td>3080.0</td>\n",
       "      <td>10.0</td>\n",
       "      <td>0.0</td>\n",
       "      <td>0.0</td>\n",
       "      <td>0.0</td>\n",
       "      <td>0.0</td>\n",
       "      <td>0</td>\n",
       "    </tr>\n",
       "    <tr>\n",
       "      <th>3</th>\n",
       "      <td>0.036646</td>\n",
       "      <td>68.0</td>\n",
       "      <td>0.0</td>\n",
       "      <td>0.587611</td>\n",
       "      <td>1694.0</td>\n",
       "      <td>15.0</td>\n",
       "      <td>0.0</td>\n",
       "      <td>1.0</td>\n",
       "      <td>0.0</td>\n",
       "      <td>0.0</td>\n",
       "      <td>0</td>\n",
       "    </tr>\n",
       "    <tr>\n",
       "      <th>4</th>\n",
       "      <td>1.000000</td>\n",
       "      <td>65.0</td>\n",
       "      <td>0.0</td>\n",
       "      <td>0.000000</td>\n",
       "      <td>4100.0</td>\n",
       "      <td>0.0</td>\n",
       "      <td>0.0</td>\n",
       "      <td>0.0</td>\n",
       "      <td>0.0</td>\n",
       "      <td>0.0</td>\n",
       "      <td>0</td>\n",
       "    </tr>\n",
       "  </tbody>\n",
       "</table>\n",
       "</div>"
      ],
      "text/plain": [
       "   RevolvingUtilizationOfUnsecuredLines   age  \\\n",
       "0                              0.337581  41.0   \n",
       "1                              0.093061  67.0   \n",
       "2                              0.959315  46.0   \n",
       "3                              0.036646  68.0   \n",
       "4                              1.000000  65.0   \n",
       "\n",
       "   NumberOfTime30-59DaysPastDueNotWorse  DebtRatio  MonthlyIncome  \\\n",
       "0                                   0.0   0.690655         2000.0   \n",
       "1                                   0.0   0.158931         8833.0   \n",
       "2                                   1.0   1.107108         3080.0   \n",
       "3                                   0.0   0.587611         1694.0   \n",
       "4                                   0.0   0.000000         4100.0   \n",
       "\n",
       "   NumberOfOpenCreditLinesAndLoans  NumberOfTimes90DaysLate  \\\n",
       "0                              6.0                      0.0   \n",
       "1                              9.0                      0.0   \n",
       "2                             10.0                      0.0   \n",
       "3                             15.0                      0.0   \n",
       "4                              0.0                      0.0   \n",
       "\n",
       "   NumberRealEstateLoansOrLines  NumberOfTime60-89DaysPastDueNotWorse  \\\n",
       "0                           1.0                                   0.0   \n",
       "1                           2.0                                   0.0   \n",
       "2                           0.0                                   0.0   \n",
       "3                           1.0                                   0.0   \n",
       "4                           0.0                                   0.0   \n",
       "\n",
       "   NumberOfDependents  SeriousDlqin2yrs  \n",
       "0                 1.0                 0  \n",
       "1                 0.0                 0  \n",
       "2                 0.0                 0  \n",
       "3                 0.0                 0  \n",
       "4                 0.0                 0  "
      ]
     },
     "execution_count": 29,
     "metadata": {},
     "output_type": "execute_result"
    }
   ],
   "source": [
    "# Concatenate the Features and the Target variable because we will be focussing on the fraud portion of the dataset\n",
    "XY_resampled_train = pd.concat([X_resampled_train, y_resampled_train], axis = 1)\n",
    "XY_resampled_train.rename(columns={0:target_class_name},inplace=True)\n",
    "\n",
    "print(len(XY_resampled_train), sum(y_resampled_train.values)[0])\n",
    "XY_resampled_train.head()"
   ]
  },
  {
   "cell_type": "code",
   "execution_count": 30,
   "metadata": {},
   "outputs": [
    {
     "data": {
      "text/plain": [
       "(77059, 60071, 137130)"
      ]
     },
     "execution_count": 30,
     "metadata": {},
     "output_type": "execute_result"
    }
   ],
   "source": [
    "# This dataframe stores only the subset of the minority cases \n",
    "# that have been previously generated from the train set\n",
    "minority_resampled_train_df = XY_resampled_train[XY_resampled_train[target_class_name]==1].copy()\n",
    "majority_resampled_train_df = XY_resampled_train[XY_resampled_train[target_class_name]==0].copy()\n",
    "\n",
    "# Verify the splits have been done properly\n",
    "len(minority_resampled_train_df), len(majority_resampled_train_df), len(XY_resampled_train)"
   ]
  },
  {
   "cell_type": "markdown",
   "metadata": {},
   "source": [
    "#### <a id = 522> EDA - Numerical Features"
   ]
  },
  {
   "cell_type": "markdown",
   "metadata": {},
   "source": [
    "This is meant to be the EDA section but we are going to just plot the distributions and display the rows in the dataframe where there are nulls to see if there is anything obvious"
   ]
  },
  {
   "cell_type": "markdown",
   "metadata": {},
   "source": [
    "#### Visualizing Distributions of top features"
   ]
  },
  {
   "cell_type": "code",
   "execution_count": 31,
   "metadata": {
    "scrolled": true
   },
   "outputs": [
    {
     "data": {
      "image/png": "[encoded data removed]",
      "text/plain": [
       "<Figure size 1152x576 with 3 Axes>"
      ]
     },
     "metadata": {},
     "output_type": "display_data"
    },
    {
     "data": {
      "image/png": "[encoded data removed]",
      "text/plain": [
       "<Figure size 1152x576 with 3 Axes>"
      ]
     },
     "metadata": {},
     "output_type": "display_data"
    },
    {
     "data": {
      "image/png": "[encoded data removed]",
      "text/plain": [
       "<Figure size 1152x576 with 3 Axes>"
      ]
     },
     "metadata": {},
     "output_type": "display_data"
    },
    {
     "data": {
      "image/png": "[encoded data removed]",
      "text/plain": [
       "<Figure size 1152x576 with 3 Axes>"
      ]
     },
     "metadata": {},
     "output_type": "display_data"
    },
    {
     "data": {
      "image/png": "[encoded data removed]",
      "text/plain": [
       "<Figure size 1152x576 with 3 Axes>"
      ]
     },
     "metadata": {},
     "output_type": "display_data"
    }
   ],
   "source": [
    "from helper_functions_comprehensive import numerical_distribution_function\n",
    "\n",
    "# Here I want roughly 30 data points on average to fall in each bin\n",
    "no_of_bins = len(minority_resampled_train_df)//30\n",
    "\n",
    "# plot the histogram, boxplots and QQ Plots\n",
    "numerical_distribution_function(minority_resampled_train_df[imp_column_list], bins=no_of_bins)\n"
   ]
  },
  {
   "cell_type": "markdown",
   "metadata": {},
   "source": [
    "The distributions are NOT Gaussian. All the features seem to have a predominance of numbers close to 0. It could be genuine zeros or null values that the business imputed as zeros. We have no way of finding out"
   ]
  },
  {
   "cell_type": "code",
   "execution_count": 32,
   "metadata": {},
   "outputs": [
    {
     "name": "stdout",
     "output_type": "stream",
     "text": [
      "NumberOfTime30-59DaysPastDueNotWorse 21260\n",
      "NumberOfTimes90DaysLate 36499\n",
      "RevolvingUtilizationOfUnsecuredLines 253\n",
      "NumberOfTime60-89DaysPastDueNotWorse 42424\n",
      "NumberOfDependents 20211\n"
     ]
    }
   ],
   "source": [
    "for col in imp_column_list:\n",
    "    print(col, sum(minority_resampled_train_df[col]==0))\n",
    "# Except RevolvingUtilizationOfUnsecuredLines, the rest of them have an enormous number of 0 values"
   ]
  },
  {
   "cell_type": "markdown",
   "metadata": {},
   "source": [
    "#### Checking out null values"
   ]
  },
  {
   "cell_type": "markdown",
   "metadata": {},
   "source": [
    "We know from the previous analysis that there are 2 columns with nulls in the original dataframe. Lets check it out to see if we find anything useful"
   ]
  },
  {
   "cell_type": "code",
   "execution_count": 33,
   "metadata": {},
   "outputs": [
    {
     "name": "stdout",
     "output_type": "stream",
     "text": [
      "0.05613669234132723\n"
     ]
    }
   ],
   "source": [
    "print(sum(df[pd.isnull(df['MonthlyIncome'])]['SeriousDlqin2yrs'])/\n",
    "      len(df[pd.isnull(df['MonthlyIncome'])]['SeriousDlqin2yrs']))\n",
    "# The proportion of SeriousDlqin2yrs in those rows where the MonthlyIncome is null is not  different\n",
    "# vs the general population\n",
    "\n",
    "# So the presence of the null in the MonthlyIncome actually gives no indication of 1.\n",
    "# I would have thought they are too shy to provide that information but no such luck"
   ]
  },
  {
   "cell_type": "code",
   "execution_count": 34,
   "metadata": {},
   "outputs": [
    {
     "data": {
      "text/html": [
       "<div>\n",
       "<style scoped>\n",
       "    .dataframe tbody tr th:only-of-type {\n",
       "        vertical-align: middle;\n",
       "    }\n",
       "\n",
       "    .dataframe tbody tr th {\n",
       "        vertical-align: top;\n",
       "    }\n",
       "\n",
       "    .dataframe thead th {\n",
       "        text-align: right;\n",
       "    }\n",
       "</style>\n",
       "<table border=\"1\" class=\"dataframe\">\n",
       "  <thead>\n",
       "    <tr style=\"text-align: right;\">\n",
       "      <th></th>\n",
       "      <th>RevolvingUtilizationOfUnsecuredLines</th>\n",
       "      <th>age</th>\n",
       "      <th>NumberOfTime30-59DaysPastDueNotWorse</th>\n",
       "      <th>DebtRatio</th>\n",
       "      <th>MonthlyIncome</th>\n",
       "      <th>NumberOfOpenCreditLinesAndLoans</th>\n",
       "      <th>NumberOfTimes90DaysLate</th>\n",
       "      <th>NumberRealEstateLoansOrLines</th>\n",
       "      <th>NumberOfTime60-89DaysPastDueNotWorse</th>\n",
       "      <th>NumberOfDependents</th>\n",
       "      <th>SeriousDlqin2yrs</th>\n",
       "    </tr>\n",
       "  </thead>\n",
       "  <tbody>\n",
       "    <tr>\n",
       "      <th>6</th>\n",
       "      <td>0.305682</td>\n",
       "      <td>57</td>\n",
       "      <td>0</td>\n",
       "      <td>5710.0</td>\n",
       "      <td>NaN</td>\n",
       "      <td>8</td>\n",
       "      <td>0</td>\n",
       "      <td>3</td>\n",
       "      <td>0</td>\n",
       "      <td>0.0</td>\n",
       "      <td>0</td>\n",
       "    </tr>\n",
       "    <tr>\n",
       "      <th>8</th>\n",
       "      <td>0.116951</td>\n",
       "      <td>27</td>\n",
       "      <td>0</td>\n",
       "      <td>46.0</td>\n",
       "      <td>NaN</td>\n",
       "      <td>2</td>\n",
       "      <td>0</td>\n",
       "      <td>0</td>\n",
       "      <td>0</td>\n",
       "      <td>NaN</td>\n",
       "      <td>0</td>\n",
       "    </tr>\n",
       "    <tr>\n",
       "      <th>16</th>\n",
       "      <td>0.061086</td>\n",
       "      <td>78</td>\n",
       "      <td>0</td>\n",
       "      <td>2058.0</td>\n",
       "      <td>NaN</td>\n",
       "      <td>10</td>\n",
       "      <td>0</td>\n",
       "      <td>2</td>\n",
       "      <td>0</td>\n",
       "      <td>0.0</td>\n",
       "      <td>0</td>\n",
       "    </tr>\n",
       "    <tr>\n",
       "      <th>32</th>\n",
       "      <td>0.083418</td>\n",
       "      <td>62</td>\n",
       "      <td>0</td>\n",
       "      <td>977.0</td>\n",
       "      <td>NaN</td>\n",
       "      <td>6</td>\n",
       "      <td>0</td>\n",
       "      <td>1</td>\n",
       "      <td>0</td>\n",
       "      <td>0.0</td>\n",
       "      <td>0</td>\n",
       "    </tr>\n",
       "    <tr>\n",
       "      <th>41</th>\n",
       "      <td>0.072898</td>\n",
       "      <td>81</td>\n",
       "      <td>0</td>\n",
       "      <td>75.0</td>\n",
       "      <td>NaN</td>\n",
       "      <td>7</td>\n",
       "      <td>0</td>\n",
       "      <td>0</td>\n",
       "      <td>0</td>\n",
       "      <td>0.0</td>\n",
       "      <td>0</td>\n",
       "    </tr>\n",
       "    <tr>\n",
       "      <th>52</th>\n",
       "      <td>1.000000</td>\n",
       "      <td>62</td>\n",
       "      <td>0</td>\n",
       "      <td>0.0</td>\n",
       "      <td>NaN</td>\n",
       "      <td>1</td>\n",
       "      <td>0</td>\n",
       "      <td>0</td>\n",
       "      <td>0</td>\n",
       "      <td>0.0</td>\n",
       "      <td>0</td>\n",
       "    </tr>\n",
       "    <tr>\n",
       "      <th>58</th>\n",
       "      <td>0.541109</td>\n",
       "      <td>43</td>\n",
       "      <td>0</td>\n",
       "      <td>2477.0</td>\n",
       "      <td>NaN</td>\n",
       "      <td>3</td>\n",
       "      <td>0</td>\n",
       "      <td>1</td>\n",
       "      <td>0</td>\n",
       "      <td>2.0</td>\n",
       "      <td>0</td>\n",
       "    </tr>\n",
       "    <tr>\n",
       "      <th>62</th>\n",
       "      <td>0.101156</td>\n",
       "      <td>72</td>\n",
       "      <td>0</td>\n",
       "      <td>1720.0</td>\n",
       "      <td>NaN</td>\n",
       "      <td>12</td>\n",
       "      <td>0</td>\n",
       "      <td>2</td>\n",
       "      <td>0</td>\n",
       "      <td>0.0</td>\n",
       "      <td>0</td>\n",
       "    </tr>\n",
       "    <tr>\n",
       "      <th>71</th>\n",
       "      <td>0.142013</td>\n",
       "      <td>67</td>\n",
       "      <td>0</td>\n",
       "      <td>1824.0</td>\n",
       "      <td>NaN</td>\n",
       "      <td>7</td>\n",
       "      <td>0</td>\n",
       "      <td>2</td>\n",
       "      <td>0</td>\n",
       "      <td>0.0</td>\n",
       "      <td>0</td>\n",
       "    </tr>\n",
       "    <tr>\n",
       "      <th>86</th>\n",
       "      <td>0.360510</td>\n",
       "      <td>58</td>\n",
       "      <td>1</td>\n",
       "      <td>3282.0</td>\n",
       "      <td>NaN</td>\n",
       "      <td>8</td>\n",
       "      <td>0</td>\n",
       "      <td>2</td>\n",
       "      <td>0</td>\n",
       "      <td>0.0</td>\n",
       "      <td>0</td>\n",
       "    </tr>\n",
       "  </tbody>\n",
       "</table>\n",
       "</div>"
      ],
      "text/plain": [
       "    RevolvingUtilizationOfUnsecuredLines  age  \\\n",
       "6                               0.305682   57   \n",
       "8                               0.116951   27   \n",
       "16                              0.061086   78   \n",
       "32                              0.083418   62   \n",
       "41                              0.072898   81   \n",
       "52                              1.000000   62   \n",
       "58                              0.541109   43   \n",
       "62                              0.101156   72   \n",
       "71                              0.142013   67   \n",
       "86                              0.360510   58   \n",
       "\n",
       "    NumberOfTime30-59DaysPastDueNotWorse  DebtRatio  MonthlyIncome  \\\n",
       "6                                      0     5710.0            NaN   \n",
       "8                                      0       46.0            NaN   \n",
       "16                                     0     2058.0            NaN   \n",
       "32                                     0      977.0            NaN   \n",
       "41                                     0       75.0            NaN   \n",
       "52                                     0        0.0            NaN   \n",
       "58                                     0     2477.0            NaN   \n",
       "62                                     0     1720.0            NaN   \n",
       "71                                     0     1824.0            NaN   \n",
       "86                                     1     3282.0            NaN   \n",
       "\n",
       "    NumberOfOpenCreditLinesAndLoans  NumberOfTimes90DaysLate  \\\n",
       "6                                 8                        0   \n",
       "8                                 2                        0   \n",
       "16                               10                        0   \n",
       "32                                6                        0   \n",
       "41                                7                        0   \n",
       "52                                1                        0   \n",
       "58                                3                        0   \n",
       "62                               12                        0   \n",
       "71                                7                        0   \n",
       "86                                8                        0   \n",
       "\n",
       "    NumberRealEstateLoansOrLines  NumberOfTime60-89DaysPastDueNotWorse  \\\n",
       "6                              3                                     0   \n",
       "8                              0                                     0   \n",
       "16                             2                                     0   \n",
       "32                             1                                     0   \n",
       "41                             0                                     0   \n",
       "52                             0                                     0   \n",
       "58                             1                                     0   \n",
       "62                             2                                     0   \n",
       "71                             2                                     0   \n",
       "86                             2                                     0   \n",
       "\n",
       "    NumberOfDependents  SeriousDlqin2yrs  \n",
       "6                  0.0                 0  \n",
       "8                  NaN                 0  \n",
       "16                 0.0                 0  \n",
       "32                 0.0                 0  \n",
       "41                 0.0                 0  \n",
       "52                 0.0                 0  \n",
       "58                 2.0                 0  \n",
       "62                 0.0                 0  \n",
       "71                 0.0                 0  \n",
       "86                 0.0                 0  "
      ]
     },
     "execution_count": 34,
     "metadata": {},
     "output_type": "execute_result"
    }
   ],
   "source": [
    "df[pd.isnull(df['MonthlyIncome'])].head(10)"
   ]
  },
  {
   "cell_type": "code",
   "execution_count": 35,
   "metadata": {},
   "outputs": [
    {
     "data": {
      "text/plain": [
       "(0.6474723352729475, 0.53244)"
      ]
     },
     "execution_count": 35,
     "metadata": {},
     "output_type": "execute_result"
    }
   ],
   "source": [
    "# What is the proportion of aged people in this subset as opposed to the general population?\n",
    "\n",
    "temp_df = df[pd.isnull(df['MonthlyIncome'])].copy()\n",
    "len(temp_df[temp_df['age']>50])/len(temp_df), len(df[df['age']>50])/len(df)\n",
    "# Its interesting to see the proportion of elderly 10% higher than the general population"
   ]
  },
  {
   "cell_type": "code",
   "execution_count": 36,
   "metadata": {},
   "outputs": [],
   "source": [
    "# This makees me think that you can fill in the MonthlyIncome nulls with the age-wise median\n",
    "# which I suspect will be much lower than the overall median MonthlyIncome\n",
    "# But is there a way to standardize how we deal with null values without recourse to the business?\n",
    "# Yes. later, we will deal with the imputation in a more formal manner based on above insights"
   ]
  },
  {
   "cell_type": "markdown",
   "metadata": {},
   "source": [
    "Lets repeat the analysis for the NumberOfDependents and see how it looks like "
   ]
  },
  {
   "cell_type": "code",
   "execution_count": 37,
   "metadata": {},
   "outputs": [
    {
     "name": "stdout",
     "output_type": "stream",
     "text": [
      "0.04561671763506626\n"
     ]
    }
   ],
   "source": [
    "print(sum(df[pd.isnull(df['NumberOfDependents'])]['SeriousDlqin2yrs'])/\n",
    "      len(df[pd.isnull(df['NumberOfDependents'])]['SeriousDlqin2yrs']))\n",
    "# the absence of values in the NumberOfDependents columns"
   ]
  },
  {
   "cell_type": "code",
   "execution_count": 38,
   "metadata": {},
   "outputs": [
    {
     "data": {
      "text/html": [
       "<div>\n",
       "<style scoped>\n",
       "    .dataframe tbody tr th:only-of-type {\n",
       "        vertical-align: middle;\n",
       "    }\n",
       "\n",
       "    .dataframe tbody tr th {\n",
       "        vertical-align: top;\n",
       "    }\n",
       "\n",
       "    .dataframe thead th {\n",
       "        text-align: right;\n",
       "    }\n",
       "</style>\n",
       "<table border=\"1\" class=\"dataframe\">\n",
       "  <thead>\n",
       "    <tr style=\"text-align: right;\">\n",
       "      <th></th>\n",
       "      <th>RevolvingUtilizationOfUnsecuredLines</th>\n",
       "      <th>age</th>\n",
       "      <th>NumberOfTime30-59DaysPastDueNotWorse</th>\n",
       "      <th>DebtRatio</th>\n",
       "      <th>MonthlyIncome</th>\n",
       "      <th>NumberOfOpenCreditLinesAndLoans</th>\n",
       "      <th>NumberOfTimes90DaysLate</th>\n",
       "      <th>NumberRealEstateLoansOrLines</th>\n",
       "      <th>NumberOfTime60-89DaysPastDueNotWorse</th>\n",
       "      <th>NumberOfDependents</th>\n",
       "      <th>SeriousDlqin2yrs</th>\n",
       "    </tr>\n",
       "  </thead>\n",
       "  <tbody>\n",
       "    <tr>\n",
       "      <th>8</th>\n",
       "      <td>0.116951</td>\n",
       "      <td>27</td>\n",
       "      <td>0</td>\n",
       "      <td>46.0</td>\n",
       "      <td>NaN</td>\n",
       "      <td>2</td>\n",
       "      <td>0</td>\n",
       "      <td>0</td>\n",
       "      <td>0</td>\n",
       "      <td>NaN</td>\n",
       "      <td>0</td>\n",
       "    </tr>\n",
       "    <tr>\n",
       "      <th>96</th>\n",
       "      <td>0.542243</td>\n",
       "      <td>48</td>\n",
       "      <td>2</td>\n",
       "      <td>10.0</td>\n",
       "      <td>NaN</td>\n",
       "      <td>2</td>\n",
       "      <td>0</td>\n",
       "      <td>0</td>\n",
       "      <td>0</td>\n",
       "      <td>NaN</td>\n",
       "      <td>0</td>\n",
       "    </tr>\n",
       "    <tr>\n",
       "      <th>109</th>\n",
       "      <td>0.041258</td>\n",
       "      <td>61</td>\n",
       "      <td>0</td>\n",
       "      <td>4739.0</td>\n",
       "      <td>NaN</td>\n",
       "      <td>11</td>\n",
       "      <td>0</td>\n",
       "      <td>4</td>\n",
       "      <td>0</td>\n",
       "      <td>NaN</td>\n",
       "      <td>0</td>\n",
       "    </tr>\n",
       "    <tr>\n",
       "      <th>159</th>\n",
       "      <td>0.000000</td>\n",
       "      <td>63</td>\n",
       "      <td>0</td>\n",
       "      <td>2.0</td>\n",
       "      <td>NaN</td>\n",
       "      <td>4</td>\n",
       "      <td>0</td>\n",
       "      <td>0</td>\n",
       "      <td>0</td>\n",
       "      <td>NaN</td>\n",
       "      <td>0</td>\n",
       "    </tr>\n",
       "    <tr>\n",
       "      <th>238</th>\n",
       "      <td>1.000000</td>\n",
       "      <td>28</td>\n",
       "      <td>0</td>\n",
       "      <td>0.0</td>\n",
       "      <td>NaN</td>\n",
       "      <td>0</td>\n",
       "      <td>0</td>\n",
       "      <td>0</td>\n",
       "      <td>0</td>\n",
       "      <td>NaN</td>\n",
       "      <td>0</td>\n",
       "    </tr>\n",
       "    <tr>\n",
       "      <th>263</th>\n",
       "      <td>0.024671</td>\n",
       "      <td>78</td>\n",
       "      <td>0</td>\n",
       "      <td>392.0</td>\n",
       "      <td>NaN</td>\n",
       "      <td>6</td>\n",
       "      <td>0</td>\n",
       "      <td>1</td>\n",
       "      <td>0</td>\n",
       "      <td>NaN</td>\n",
       "      <td>0</td>\n",
       "    </tr>\n",
       "    <tr>\n",
       "      <th>284</th>\n",
       "      <td>0.260971</td>\n",
       "      <td>57</td>\n",
       "      <td>0</td>\n",
       "      <td>5439.0</td>\n",
       "      <td>NaN</td>\n",
       "      <td>16</td>\n",
       "      <td>0</td>\n",
       "      <td>3</td>\n",
       "      <td>0</td>\n",
       "      <td>NaN</td>\n",
       "      <td>0</td>\n",
       "    </tr>\n",
       "    <tr>\n",
       "      <th>381</th>\n",
       "      <td>1.000000</td>\n",
       "      <td>22</td>\n",
       "      <td>0</td>\n",
       "      <td>130.0</td>\n",
       "      <td>NaN</td>\n",
       "      <td>0</td>\n",
       "      <td>0</td>\n",
       "      <td>0</td>\n",
       "      <td>0</td>\n",
       "      <td>NaN</td>\n",
       "      <td>0</td>\n",
       "    </tr>\n",
       "    <tr>\n",
       "      <th>382</th>\n",
       "      <td>0.571605</td>\n",
       "      <td>66</td>\n",
       "      <td>0</td>\n",
       "      <td>870.0</td>\n",
       "      <td>NaN</td>\n",
       "      <td>12</td>\n",
       "      <td>0</td>\n",
       "      <td>0</td>\n",
       "      <td>0</td>\n",
       "      <td>NaN</td>\n",
       "      <td>0</td>\n",
       "    </tr>\n",
       "    <tr>\n",
       "      <th>412</th>\n",
       "      <td>0.000000</td>\n",
       "      <td>59</td>\n",
       "      <td>0</td>\n",
       "      <td>2113.0</td>\n",
       "      <td>NaN</td>\n",
       "      <td>13</td>\n",
       "      <td>0</td>\n",
       "      <td>2</td>\n",
       "      <td>0</td>\n",
       "      <td>NaN</td>\n",
       "      <td>0</td>\n",
       "    </tr>\n",
       "  </tbody>\n",
       "</table>\n",
       "</div>"
      ],
      "text/plain": [
       "     RevolvingUtilizationOfUnsecuredLines  age  \\\n",
       "8                                0.116951   27   \n",
       "96                               0.542243   48   \n",
       "109                              0.041258   61   \n",
       "159                              0.000000   63   \n",
       "238                              1.000000   28   \n",
       "263                              0.024671   78   \n",
       "284                              0.260971   57   \n",
       "381                              1.000000   22   \n",
       "382                              0.571605   66   \n",
       "412                              0.000000   59   \n",
       "\n",
       "     NumberOfTime30-59DaysPastDueNotWorse  DebtRatio  MonthlyIncome  \\\n",
       "8                                       0       46.0            NaN   \n",
       "96                                      2       10.0            NaN   \n",
       "109                                     0     4739.0            NaN   \n",
       "159                                     0        2.0            NaN   \n",
       "238                                     0        0.0            NaN   \n",
       "263                                     0      392.0            NaN   \n",
       "284                                     0     5439.0            NaN   \n",
       "381                                     0      130.0            NaN   \n",
       "382                                     0      870.0            NaN   \n",
       "412                                     0     2113.0            NaN   \n",
       "\n",
       "     NumberOfOpenCreditLinesAndLoans  NumberOfTimes90DaysLate  \\\n",
       "8                                  2                        0   \n",
       "96                                 2                        0   \n",
       "109                               11                        0   \n",
       "159                                4                        0   \n",
       "238                                0                        0   \n",
       "263                                6                        0   \n",
       "284                               16                        0   \n",
       "381                                0                        0   \n",
       "382                               12                        0   \n",
       "412                               13                        0   \n",
       "\n",
       "     NumberRealEstateLoansOrLines  NumberOfTime60-89DaysPastDueNotWorse  \\\n",
       "8                               0                                     0   \n",
       "96                              0                                     0   \n",
       "109                             4                                     0   \n",
       "159                             0                                     0   \n",
       "238                             0                                     0   \n",
       "263                             1                                     0   \n",
       "284                             3                                     0   \n",
       "381                             0                                     0   \n",
       "382                             0                                     0   \n",
       "412                             2                                     0   \n",
       "\n",
       "     NumberOfDependents  SeriousDlqin2yrs  \n",
       "8                   NaN                 0  \n",
       "96                  NaN                 0  \n",
       "109                 NaN                 0  \n",
       "159                 NaN                 0  \n",
       "238                 NaN                 0  \n",
       "263                 NaN                 0  \n",
       "284                 NaN                 0  \n",
       "381                 NaN                 0  \n",
       "382                 NaN                 0  \n",
       "412                 NaN                 0  "
      ]
     },
     "execution_count": 38,
     "metadata": {},
     "output_type": "execute_result"
    }
   ],
   "source": [
    "df[pd.isnull(df['NumberOfDependents'])].head(10)\n",
    "# Its not visually obvious what could influence the presence of nulls in this columns|"
   ]
  },
  {
   "cell_type": "markdown",
   "metadata": {},
   "source": [
    "#### <a id = 523> Outlier Definition, Detection & Removal"
   ]
  },
  {
   "cell_type": "markdown",
   "metadata": {},
   "source": [
    "There are various qualitative and quantitative methods of defining outliers depending on the use case"
   ]
  },
  {
   "cell_type": "markdown",
   "metadata": {},
   "source": [
    "\n",
    "Because of the non-standard distributions seen for the top 5 features, its not exactly obvious what constitutes an outlier, so we will keep all of the points rather than use the Z score or IQR method both of which need a gaussian distribution. In real life you would discuss with the business on what these distributions imply"
   ]
  },
  {
   "cell_type": "markdown",
   "metadata": {},
   "source": [
    "## <a id='6'> Data Signal Amplification"
   ]
  },
  {
   "cell_type": "markdown",
   "metadata": {},
   "source": [
    "Now lets start dealing with the real dataframe "
   ]
  },
  {
   "cell_type": "markdown",
   "metadata": {},
   "source": [
    "### <a id = 61 > Data Prep - Feature Target & Train Test Split"
   ]
  },
  {
   "cell_type": "markdown",
   "metadata": {},
   "source": [
    "Before we do any imputation or transformation, we should split it. This ensures that we are fitting with training data and transforming on the test data"
   ]
  },
  {
   "cell_type": "code",
   "execution_count": 39,
   "metadata": {},
   "outputs": [],
   "source": [
    "X = df.drop(target_class_name, axis=1)\n",
    "y = df[target_class_name]\n",
    "\n",
    "# split into train and test set \n",
    "from sklearn.model_selection import train_test_split\n",
    "X_train, X_test, y_train, y_test = train_test_split(X, y, test_size=0.2, random_state=42)\n",
    "\n",
    "# Note optionally convert the pandas dataframe into a numpy array using to_numpy if you have a big data\n",
    "# and want to model faster. Otherwise it doesnt matter which data structure you use"
   ]
  },
  {
   "cell_type": "markdown",
   "metadata": {},
   "source": [
    "### <a id='62'>Handling Null Values</a> "
   ]
  },
  {
   "cell_type": "markdown",
   "metadata": {},
   "source": [
    "Handling Null Values gets its own section because it is both common and painful enough for all Data Scientists. Ideally the EDA process should give you insights on what the null values are and what needs to be done"
   ]
  },
  {
   "cell_type": "markdown",
   "metadata": {},
   "source": [
    "Make sure to introduce the binary indicator before any imputation otherwise we will lose information about the missingness. \n",
    "This imputation syntax should work for all column types (num, cat, etc) as long as you have turned any weird values into nulls and they are within the null_col_list"
   ]
  },
  {
   "cell_type": "markdown",
   "metadata": {},
   "source": [
    "#### <a id='621'>Pre-Imputation"
   ]
  },
  {
   "cell_type": "code",
   "execution_count": 40,
   "metadata": {},
   "outputs": [
    {
     "name": "stdout",
     "output_type": "stream",
     "text": [
      "Identified 2 features with atleast one null\n",
      "Identified 0 features with atleast one blank space\n",
      "Identified 0 numeric features that have quasi-constant values\n",
      "Identified 0 non-numeric features that have quasi-constant values\n",
      "Identified 0 features that are duplicates of other features\n"
     ]
    }
   ],
   "source": [
    "from helper_functions_comprehensive import find_bad_columns_function\n",
    "\n",
    "null_col_list, _, __, ___, ____ = find_bad_columns_function(df)"
   ]
  },
  {
   "cell_type": "markdown",
   "metadata": {},
   "source": [
    "#### - Introduce MissingIndicator column"
   ]
  },
  {
   "cell_type": "code",
   "execution_count": 41,
   "metadata": {},
   "outputs": [
    {
     "data": {
      "text/html": [
       "<div>\n",
       "<style scoped>\n",
       "    .dataframe tbody tr th:only-of-type {\n",
       "        vertical-align: middle;\n",
       "    }\n",
       "\n",
       "    .dataframe tbody tr th {\n",
       "        vertical-align: top;\n",
       "    }\n",
       "\n",
       "    .dataframe thead th {\n",
       "        text-align: right;\n",
       "    }\n",
       "</style>\n",
       "<table border=\"1\" class=\"dataframe\">\n",
       "  <thead>\n",
       "    <tr style=\"text-align: right;\">\n",
       "      <th></th>\n",
       "      <th>RevolvingUtilizationOfUnsecuredLines</th>\n",
       "      <th>age</th>\n",
       "      <th>NumberOfTime30-59DaysPastDueNotWorse</th>\n",
       "      <th>DebtRatio</th>\n",
       "      <th>MonthlyIncome</th>\n",
       "      <th>NumberOfOpenCreditLinesAndLoans</th>\n",
       "      <th>NumberOfTimes90DaysLate</th>\n",
       "      <th>NumberRealEstateLoansOrLines</th>\n",
       "      <th>NumberOfTime60-89DaysPastDueNotWorse</th>\n",
       "      <th>NumberOfDependents</th>\n",
       "      <th>MonthlyIncome_na</th>\n",
       "      <th>NumberOfDependents_na</th>\n",
       "    </tr>\n",
       "  </thead>\n",
       "  <tbody>\n",
       "    <tr>\n",
       "      <th>104025</th>\n",
       "      <td>0.000000</td>\n",
       "      <td>29</td>\n",
       "      <td>0</td>\n",
       "      <td>0.011513</td>\n",
       "      <td>4342.0</td>\n",
       "      <td>5</td>\n",
       "      <td>0</td>\n",
       "      <td>0</td>\n",
       "      <td>0</td>\n",
       "      <td>0.0</td>\n",
       "      <td>0</td>\n",
       "      <td>0</td>\n",
       "    </tr>\n",
       "    <tr>\n",
       "      <th>5415</th>\n",
       "      <td>0.595526</td>\n",
       "      <td>55</td>\n",
       "      <td>0</td>\n",
       "      <td>0.835333</td>\n",
       "      <td>1833.0</td>\n",
       "      <td>11</td>\n",
       "      <td>0</td>\n",
       "      <td>1</td>\n",
       "      <td>0</td>\n",
       "      <td>0.0</td>\n",
       "      <td>0</td>\n",
       "      <td>0</td>\n",
       "    </tr>\n",
       "    <tr>\n",
       "      <th>75612</th>\n",
       "      <td>0.000000</td>\n",
       "      <td>43</td>\n",
       "      <td>0</td>\n",
       "      <td>0.043437</td>\n",
       "      <td>4166.0</td>\n",
       "      <td>2</td>\n",
       "      <td>0</td>\n",
       "      <td>0</td>\n",
       "      <td>0</td>\n",
       "      <td>4.0</td>\n",
       "      <td>0</td>\n",
       "      <td>0</td>\n",
       "    </tr>\n",
       "    <tr>\n",
       "      <th>138169</th>\n",
       "      <td>0.391980</td>\n",
       "      <td>40</td>\n",
       "      <td>0</td>\n",
       "      <td>0.059771</td>\n",
       "      <td>9000.0</td>\n",
       "      <td>2</td>\n",
       "      <td>0</td>\n",
       "      <td>0</td>\n",
       "      <td>0</td>\n",
       "      <td>5.0</td>\n",
       "      <td>0</td>\n",
       "      <td>0</td>\n",
       "    </tr>\n",
       "    <tr>\n",
       "      <th>87184</th>\n",
       "      <td>0.000000</td>\n",
       "      <td>35</td>\n",
       "      <td>0</td>\n",
       "      <td>0.133598</td>\n",
       "      <td>5800.0</td>\n",
       "      <td>12</td>\n",
       "      <td>0</td>\n",
       "      <td>1</td>\n",
       "      <td>0</td>\n",
       "      <td>0.0</td>\n",
       "      <td>0</td>\n",
       "      <td>0</td>\n",
       "    </tr>\n",
       "  </tbody>\n",
       "</table>\n",
       "</div>"
      ],
      "text/plain": [
       "        RevolvingUtilizationOfUnsecuredLines  age  \\\n",
       "104025                              0.000000   29   \n",
       "5415                                0.595526   55   \n",
       "75612                               0.000000   43   \n",
       "138169                              0.391980   40   \n",
       "87184                               0.000000   35   \n",
       "\n",
       "        NumberOfTime30-59DaysPastDueNotWorse  DebtRatio  MonthlyIncome  \\\n",
       "104025                                     0   0.011513         4342.0   \n",
       "5415                                       0   0.835333         1833.0   \n",
       "75612                                      0   0.043437         4166.0   \n",
       "138169                                     0   0.059771         9000.0   \n",
       "87184                                      0   0.133598         5800.0   \n",
       "\n",
       "        NumberOfOpenCreditLinesAndLoans  NumberOfTimes90DaysLate  \\\n",
       "104025                                5                        0   \n",
       "5415                                 11                        0   \n",
       "75612                                 2                        0   \n",
       "138169                                2                        0   \n",
       "87184                                12                        0   \n",
       "\n",
       "        NumberRealEstateLoansOrLines  NumberOfTime60-89DaysPastDueNotWorse  \\\n",
       "104025                             0                                     0   \n",
       "5415                               1                                     0   \n",
       "75612                              0                                     0   \n",
       "138169                             0                                     0   \n",
       "87184                              1                                     0   \n",
       "\n",
       "        NumberOfDependents  MonthlyIncome_na  NumberOfDependents_na  \n",
       "104025                 0.0                 0                      0  \n",
       "5415                   0.0                 0                      0  \n",
       "75612                  4.0                 0                      0  \n",
       "138169                 5.0                 0                      0  \n",
       "87184                  0.0                 0                      0  "
      ]
     },
     "execution_count": 41,
     "metadata": {},
     "output_type": "execute_result"
    }
   ],
   "source": [
    "# Since we dont know a-priori whether the data is Missing Not At Random (MNAR), we will introduce\n",
    "# a new column to indicate the missingness of each feature that has a null value in it\n",
    "\n",
    "import feature_engine.missing_data_imputers as mdi\n",
    "# The alternative is to use the MissingIndicator() from sklearn\n",
    "\n",
    "# set up the imputer\n",
    "binary_imputer_obj = mdi.AddNaNBinaryImputer(variables=null_col_list)\n",
    "\n",
    "# fit the imputer to the train set and transform both the train and test set\n",
    "binary_imputer_obj.fit(X_train)\n",
    "X_train = binary_imputer_obj.transform(X_train)\n",
    "X_test = binary_imputer_obj.transform(X_test)\n",
    "\n",
    "X_train.head()\n",
    "# notice how the columns with nulls have an additional column with _na"
   ]
  },
  {
   "cell_type": "markdown",
   "metadata": {},
   "source": [
    "If you have multiple columns that got imputed, then we need a round of feature reduction using the constant value removal and correlated features. Because its possible that some of the features have missing data that occur at the same time."
   ]
  },
  {
   "cell_type": "markdown",
   "metadata": {},
   "source": [
    "#### <a id='622'> Imputation"
   ]
  },
  {
   "cell_type": "code",
   "execution_count": 42,
   "metadata": {},
   "outputs": [],
   "source": [
    "# There are atleast 6 varieties of imputing: \n",
    "# 1) just a blind number like 0 which can skew the distribution\n",
    "# 2) median which can still skew but better than before\n",
    "# 3) random distribution which will preserve the distribution but doesnt take advantage of other col\n",
    "# 4) a given age-specific monthly income (like above 50) based on a hunch \n",
    "# 5) age specific median imputation but you are introducing the data scientist's subjectivity\n",
    "# 6) Multivariate imputation: you are using the other features to predict the missing values"
   ]
  },
  {
   "cell_type": "markdown",
   "metadata": {},
   "source": [
    "##### - Imputation for numerical columns"
   ]
  },
  {
   "cell_type": "markdown",
   "metadata": {},
   "source": [
    "- We are NOT allowed to use the Median imputation because more than 5% of the data is missing\n",
    "- Since it is higher than the 5% threshold, the distribution will be impacted. \n",
    "\n",
    "- In those circumstances, use all the features to predict the missing value"
   ]
  },
  {
   "cell_type": "code",
   "execution_count": 43,
   "metadata": {},
   "outputs": [],
   "source": [
    "# https://scikit-learn.org/stable/modules/impute.html\n",
    "# Use this to generate multivariate imputation\n",
    "from sklearn.experimental import enable_iterative_imputer\n",
    "from sklearn.impute import IterativeImputer\n",
    "imp = IterativeImputer(max_iter=10, random_state=42)\n",
    "\n",
    "original_col_list = X_train.columns\n",
    "X_train = imp.fit_transform(X_train)\n",
    "X_test = imp.transform(X_test)\n",
    "\n",
    "# convert them back into the dataframe\n",
    "X_train = pd.DataFrame(X_train, columns=original_col_list)\n",
    "X_test = pd.DataFrame(X_test, columns=original_col_list)"
   ]
  },
  {
   "cell_type": "code",
   "execution_count": 44,
   "metadata": {},
   "outputs": [
    {
     "name": "stdout",
     "output_type": "stream",
     "text": [
      "Identified 0 features with atleast one null\n",
      "Identified 0 features with atleast one blank space\n",
      "Identified 0 numeric features that have quasi-constant values\n",
      "Identified 0 non-numeric features that have quasi-constant values\n",
      "Identified 0 features that are duplicates of other features\n"
     ]
    },
    {
     "data": {
      "text/plain": [
       "([], [], [], [], set())"
      ]
     },
     "execution_count": 44,
     "metadata": {},
     "output_type": "execute_result"
    }
   ],
   "source": [
    "# Run a round of bad column checks to find out if there are duplicates\n",
    "find_bad_columns_function(X_train)\n",
    "\n",
    "# As expected there are no nulls anymore and thankfully there are no duplicates of each other either"
   ]
  },
  {
   "cell_type": "markdown",
   "metadata": {},
   "source": [
    "#### - Mode imputation for categorical columns"
   ]
  },
  {
   "cell_type": "markdown",
   "metadata": {},
   "source": [
    "We dont have any categorical columns for which we need null value imputation"
   ]
  },
  {
   "cell_type": "markdown",
   "metadata": {},
   "source": [
    "#### <a id = 623> Performance Testing on Null Imputed dataframe"
   ]
  },
  {
   "cell_type": "code",
   "execution_count": null,
   "metadata": {},
   "outputs": [],
   "source": [
    "# I usually have entire functions in a separate .py file but this time I have kept it in here"
   ]
  },
  {
   "cell_type": "code",
   "execution_count": 45,
   "metadata": {},
   "outputs": [],
   "source": [
    "# Make it go through the whole test performance cycle\n",
    "def modelling_workflow_function(X_train, X_test, y_train, y_test):\n",
    "    \n",
    "    '''\n",
    "    Logic: merges the feature target train and test, converts the object columns into numbers,\n",
    "    Then splits it back into feature/target train/test, then resamples and tests against real test data\n",
    "    \n",
    "    Returns: metric_dict containing all the relevant classification metric \n",
    "    including the precision_at_recall_threshold\n",
    "    \n",
    "    '''\n",
    "    from helper_functions_comprehensive import merge_feature_target_train_test_function\n",
    "\n",
    "    # create a new dataframe to hold the null_imputed values\n",
    "    dataframe = merge_feature_target_train_test_function(X_train, X_test, y_train, y_test)\n",
    "\n",
    "    from sklearn.preprocessing import LabelEncoder\n",
    "\n",
    "    object_columns = dataframe.select_dtypes(include=['object']).columns\n",
    "\n",
    "    for column in object_columns:\n",
    "        labelencoder = LabelEncoder()\n",
    "        dataframe[column] = labelencoder.fit_transform(dataframe[column])\n",
    "\n",
    "    # Feature Target split\n",
    "    X = dataframe.drop(target_class_name, axis=1)\n",
    "    y = dataframe[target_class_name]\n",
    "\n",
    "    # split into train and test set \n",
    "    from sklearn.model_selection import train_test_split\n",
    "    X_train, X_test, y_train, y_test = train_test_split(X, y, test_size=0.2, random_state=42)\n",
    "\n",
    "    # Resampling, fit and test\n",
    "    from imblearn.combine import SMOTEENN\n",
    "    from collections import Counter\n",
    "    \n",
    "    metrics_dict=Counter()\n",
    "\n",
    "    X_resampled_train, y_resampled_train, metrics_dict = resample_and_test_performance_function(\n",
    "    SMOTEENN(sampling_strategy = 'all' ,random_state=42), X_train, y_train, X_test, y_test, labels)\n",
    "\n",
    "    return metrics_dict"
   ]
  },
  {
   "cell_type": "code",
   "execution_count": 46,
   "metadata": {},
   "outputs": [
    {
     "name": "stdout",
     "output_type": "stream",
     "text": [
      "The size of the resampled train sets are as follows:\n",
      "(168761, 12) 94274\n",
      "Has a Test accuracy of 92.0 % \n",
      "              precision    recall  f1-score   support\n",
      "\n",
      " No Distress       0.96      0.96      0.96     27966\n",
      "    Distress       0.41      0.41      0.41      2034\n",
      "\n",
      "    accuracy                           0.92     30000\n",
      "   macro avg       0.68      0.68      0.68     30000\n",
      "weighted avg       0.92      0.92      0.92     30000\n",
      "\n",
      "The ROC AUC Score on Test set is 0.84\n",
      "Confusion matrix, without normalization\n",
      "[[26746  1220]\n",
      " [ 1201   833]]\n"
     ]
    },
    {
     "data": {
      "image/png": "[encoded data removed]",
      "text/plain": [
       "<Figure size 720x432 with 1 Axes>"
      ]
     },
     "metadata": {},
     "output_type": "display_data"
    },
    {
     "data": {
      "image/png": "[encoded data removed]",
      "text/plain": [
       "<Figure size 576x288 with 2 Axes>"
      ]
     },
     "metadata": {},
     "output_type": "display_data"
    }
   ],
   "source": [
    "metrics_dict = modelling_workflow_function(X_train, X_test, y_train, y_test)"
   ]
  },
  {
   "cell_type": "code",
   "execution_count": 53,
   "metadata": {},
   "outputs": [
    {
     "data": {
      "text/plain": [
       "Counter({'Pos_Precision': 0.40574768631271313,\n",
       "         'Pos_Recall': 0.4095378564405113,\n",
       "         'Pos_F1': 0.40763396134083685,\n",
       "         'ROC AUC': 0.84,\n",
       "         'TN': 26746,\n",
       "         'TP': 833,\n",
       "         'FN': 1201,\n",
       "         'FP': 1220,\n",
       "         'Precision_at_Recall': 0.1506506937860898})"
      ]
     },
     "execution_count": 53,
     "metadata": {},
     "output_type": "execute_result"
    }
   ],
   "source": [
    "metrics_dict"
   ]
  },
  {
   "cell_type": "markdown",
   "metadata": {},
   "source": [
    "The multivariate imputation works to increase the SNR compared to Day1 ! So lets export this dataset "
   ]
  },
  {
   "cell_type": "code",
   "execution_count": 48,
   "metadata": {},
   "outputs": [],
   "source": [
    "from helper_functions_comprehensive import data_export_function\n",
    "\n",
    "data_export_function(X_train, X_test, y_train, y_test, \n",
    "                         intermediate_data_path, output_df_file_name, export_date)"
   ]
  },
  {
   "cell_type": "code",
   "execution_count": 49,
   "metadata": {},
   "outputs": [],
   "source": [
    "# Lets try a couple of other techniques to amplify the signal"
   ]
  },
  {
   "cell_type": "markdown",
   "metadata": {},
   "source": [
    "### <a id='63'> Variance Reduction"
   ]
  },
  {
   "cell_type": "markdown",
   "metadata": {},
   "source": [
    "#### <a id='631'>Binning Numerical Features "
   ]
  },
  {
   "cell_type": "markdown",
   "metadata": {},
   "source": [
    "Decision tree based algorithms make cuts on the continuous features. So what if we proactively cut it to help this process downstream?"
   ]
  },
  {
   "cell_type": "markdown",
   "metadata": {},
   "source": [
    "We are going to skip this section because we didnt find anything useful in the EDA section that would have guided us on what would be the appropriate number of bins"
   ]
  },
  {
   "cell_type": "code",
   "execution_count": 50,
   "metadata": {},
   "outputs": [],
   "source": [
    "# from feature_engine.discretisers import EqualFrequencyDiscretiser\n",
    "\n",
    "# contns_to_discrete_col_list = imp_column_list\n",
    "\n",
    "# # Lets mandate that we need 10 categories as the output from the discretizer based on the EDA step\n",
    "# no_of_bins = 10\n",
    "# discretizer_obj = EqualFrequencyDiscretiser(q=no_of_bins, \n",
    "#                   variables=contns_to_discrete_col_list, return_object=True)\n",
    "\n",
    "# # find the intervals for each of the above\n",
    "# discretizer_obj.fit(X_train)\n",
    "\n",
    "# # Transform the train and test datasets and then overwrite the existing versions\n",
    "# X_train = discretizer_obj.transform(X_train)\n",
    "# X_test = discretizer_obj.transform(X_test)\n",
    "\n",
    "# X_train.head()\n",
    "# # note that the discretized column by default gets treated as an object type eventhough its a number"
   ]
  },
  {
   "cell_type": "markdown",
   "metadata": {},
   "source": [
    "#### <a id='632'> Rare Label Encoding - Categorical Features"
   ]
  },
  {
   "cell_type": "markdown",
   "metadata": {},
   "source": [
    "Lets skip this section because we dont have any categorical variables"
   ]
  },
  {
   "cell_type": "markdown",
   "metadata": {},
   "source": [
    "## <a id='7'> Conclusion"
   ]
  },
  {
   "cell_type": "markdown",
   "metadata": {},
   "source": [
    "The results from the Multivariate Null Imputation on the SMOTEEN resampling allowed you to get a higher results than Day1 and was exported. Lets keep this exported dataset for future analysis"
   ]
  },
  {
   "cell_type": "markdown",
   "metadata": {},
   "source": [
    "In the next iteration, we are going to try out feature engineering to synthetically increase the number of features available"
   ]
  },
  {
   "cell_type": "markdown",
   "metadata": {},
   "source": [
    "## <a id='8'>References</a> "
   ]
  },
  {
   "cell_type": "markdown",
   "metadata": {},
   "source": [
    "A very good Kaggle notebook for understanding SMOTE \n",
    "https://www.kaggle.com/janiobachmann/credit-fraud-dealing-with-imbalanced-datasets\n",
    "\n",
    "Understanding IQR and Z scores for Outlier detection and removal\n",
    "http://colingorrie.github.io/outlier-detection.html"
   ]
  }
 ],
 "metadata": {
  "kernelspec": {
   "display_name": "Python 3",
   "language": "python",
   "name": "python3"
  },
  "language_info": {
   "codemirror_mode": {
    "name": "ipython",
    "version": 3
   },
   "file_extension": ".py",
   "mimetype": "text/x-python",
   "name": "python",
   "nbconvert_exporter": "python",
   "pygments_lexer": "ipython3",
   "version": "3.6.6"
  }
 },
 "nbformat": 4,
 "nbformat_minor": 2
}
